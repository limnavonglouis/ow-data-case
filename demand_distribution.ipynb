{
 "cells": [
  {
   "cell_type": "markdown",
   "metadata": {},
   "source": [
    "# Reading the data"
   ]
  },
  {
   "cell_type": "code",
   "execution_count": 1,
   "metadata": {
    "collapsed": true
   },
   "outputs": [],
   "source": [
    "import pandas as pd\n",
    "import seaborn as sns\n",
    "from matplotlib import pyplot as plt"
   ]
  },
  {
   "cell_type": "code",
   "execution_count": 2,
   "metadata": {
    "collapsed": true
   },
   "outputs": [],
   "source": [
    "path = 'stored_data_case.h5'"
   ]
  },
  {
   "cell_type": "code",
   "execution_count": 3,
   "metadata": {
    "collapsed": true
   },
   "outputs": [],
   "source": [
    "def read_HDF_file(file_name, table):\n",
    "    with pd.HDFStore(file_name, complevel=9, complib='blosc') as store:\n",
    "         return store[table]"
   ]
  },
  {
   "cell_type": "code",
   "execution_count": 4,
   "metadata": {
    "collapsed": true
   },
   "outputs": [],
   "source": [
    "df = read_HDF_file(path,'/transaction_and_locations')"
   ]
  },
  {
   "cell_type": "code",
   "execution_count": 5,
   "metadata": {
    "scrolled": false
   },
   "outputs": [
    {
     "data": {
      "text/html": [
       "<div>\n",
       "<style scoped>\n",
       "    .dataframe tbody tr th:only-of-type {\n",
       "        vertical-align: middle;\n",
       "    }\n",
       "\n",
       "    .dataframe tbody tr th {\n",
       "        vertical-align: top;\n",
       "    }\n",
       "\n",
       "    .dataframe thead th {\n",
       "        text-align: right;\n",
       "    }\n",
       "</style>\n",
       "<table border=\"1\" class=\"dataframe\">\n",
       "  <thead>\n",
       "    <tr style=\"text-align: right;\">\n",
       "      <th></th>\n",
       "      <th>parkmeter_id</th>\n",
       "      <th>user_type</th>\n",
       "      <th>payment_method</th>\n",
       "      <th>amount</th>\n",
       "      <th>duration_hours</th>\n",
       "      <th>parking_start</th>\n",
       "      <th>parking_end</th>\n",
       "      <th>parkmeter_address</th>\n",
       "      <th>arrondissement</th>\n",
       "      <th>system</th>\n",
       "      <th>residential_area</th>\n",
       "      <th>hourly_rate</th>\n",
       "      <th>parkmeter_coordinates</th>\n",
       "    </tr>\n",
       "  </thead>\n",
       "  <tbody>\n",
       "    <tr>\n",
       "      <th>0</th>\n",
       "      <td>66391001</td>\n",
       "      <td>Rotatif</td>\n",
       "      <td>CB</td>\n",
       "      <td>2.4</td>\n",
       "      <td>2.00</td>\n",
       "      <td>2014-09-09 14:02:44</td>\n",
       "      <td>2014-09-09 16:02:44</td>\n",
       "      <td>121 BOULEVARD MURAT</td>\n",
       "      <td>16</td>\n",
       "      <td>MIX</td>\n",
       "      <td>16Z</td>\n",
       "      <td>2.4</td>\n",
       "      <td>48.8373519997, 2.25909199964</td>\n",
       "    </tr>\n",
       "    <tr>\n",
       "      <th>1</th>\n",
       "      <td>66391001</td>\n",
       "      <td>Rotatif</td>\n",
       "      <td>Paris Carte</td>\n",
       "      <td>0.3</td>\n",
       "      <td>0.25</td>\n",
       "      <td>2014-02-09 14:18:09</td>\n",
       "      <td>2014-02-09 14:33:09</td>\n",
       "      <td>121 BOULEVARD MURAT</td>\n",
       "      <td>16</td>\n",
       "      <td>MIX</td>\n",
       "      <td>16Z</td>\n",
       "      <td>2.4</td>\n",
       "      <td>48.8373519997, 2.25909199964</td>\n",
       "    </tr>\n",
       "    <tr>\n",
       "      <th>2084</th>\n",
       "      <td>66391001</td>\n",
       "      <td>Rotatif</td>\n",
       "      <td>CB</td>\n",
       "      <td>0.6</td>\n",
       "      <td>0.50</td>\n",
       "      <td>2014-05-09 18:55:21</td>\n",
       "      <td>2014-05-09 19:25:21</td>\n",
       "      <td>121 BOULEVARD MURAT</td>\n",
       "      <td>16</td>\n",
       "      <td>MIX</td>\n",
       "      <td>16Z</td>\n",
       "      <td>2.4</td>\n",
       "      <td>48.8373519997, 2.25909199964</td>\n",
       "    </tr>\n",
       "    <tr>\n",
       "      <th>2085</th>\n",
       "      <td>66391001</td>\n",
       "      <td>Rotatif</td>\n",
       "      <td>CB</td>\n",
       "      <td>0.9</td>\n",
       "      <td>0.75</td>\n",
       "      <td>2014-08-09 16:30:32</td>\n",
       "      <td>2014-08-09 17:15:32</td>\n",
       "      <td>121 BOULEVARD MURAT</td>\n",
       "      <td>16</td>\n",
       "      <td>MIX</td>\n",
       "      <td>16Z</td>\n",
       "      <td>2.4</td>\n",
       "      <td>48.8373519997, 2.25909199964</td>\n",
       "    </tr>\n",
       "    <tr>\n",
       "      <th>2086</th>\n",
       "      <td>66391001</td>\n",
       "      <td>Rotatif</td>\n",
       "      <td>Paris Carte</td>\n",
       "      <td>0.3</td>\n",
       "      <td>0.25</td>\n",
       "      <td>2014-01-09 18:40:25</td>\n",
       "      <td>2014-01-09 18:55:25</td>\n",
       "      <td>121 BOULEVARD MURAT</td>\n",
       "      <td>16</td>\n",
       "      <td>MIX</td>\n",
       "      <td>16Z</td>\n",
       "      <td>2.4</td>\n",
       "      <td>48.8373519997, 2.25909199964</td>\n",
       "    </tr>\n",
       "  </tbody>\n",
       "</table>\n",
       "</div>"
      ],
      "text/plain": [
       "      parkmeter_id user_type payment_method  amount  duration_hours  \\\n",
       "0         66391001   Rotatif             CB     2.4            2.00   \n",
       "1         66391001   Rotatif    Paris Carte     0.3            0.25   \n",
       "2084      66391001   Rotatif             CB     0.6            0.50   \n",
       "2085      66391001   Rotatif             CB     0.9            0.75   \n",
       "2086      66391001   Rotatif    Paris Carte     0.3            0.25   \n",
       "\n",
       "           parking_start         parking_end    parkmeter_address  \\\n",
       "0    2014-09-09 14:02:44 2014-09-09 16:02:44  121 BOULEVARD MURAT   \n",
       "1    2014-02-09 14:18:09 2014-02-09 14:33:09  121 BOULEVARD MURAT   \n",
       "2084 2014-05-09 18:55:21 2014-05-09 19:25:21  121 BOULEVARD MURAT   \n",
       "2085 2014-08-09 16:30:32 2014-08-09 17:15:32  121 BOULEVARD MURAT   \n",
       "2086 2014-01-09 18:40:25 2014-01-09 18:55:25  121 BOULEVARD MURAT   \n",
       "\n",
       "      arrondissement system residential_area  hourly_rate  \\\n",
       "0                 16    MIX              16Z          2.4   \n",
       "1                 16    MIX              16Z          2.4   \n",
       "2084              16    MIX              16Z          2.4   \n",
       "2085              16    MIX              16Z          2.4   \n",
       "2086              16    MIX              16Z          2.4   \n",
       "\n",
       "             parkmeter_coordinates  \n",
       "0     48.8373519997, 2.25909199964  \n",
       "1     48.8373519997, 2.25909199964  \n",
       "2084  48.8373519997, 2.25909199964  \n",
       "2085  48.8373519997, 2.25909199964  \n",
       "2086  48.8373519997, 2.25909199964  "
      ]
     },
     "execution_count": 5,
     "metadata": {},
     "output_type": "execute_result"
    }
   ],
   "source": [
    "df.head()"
   ]
  },
  {
   "cell_type": "code",
   "execution_count": 7,
   "metadata": {},
   "outputs": [],
   "source": [
    "df_sample = df.sample(n=1000)"
   ]
  },
  {
   "cell_type": "markdown",
   "metadata": {},
   "source": [
    "# Demand exploration"
   ]
  },
  {
   "cell_type": "code",
   "execution_count": 13,
   "metadata": {
    "collapsed": true
   },
   "outputs": [],
   "source": [
    "#df_demand = df[['parkmeter_id', 'parking_start', 'parking_end', 'residential_area']].copy()\n",
    "#df_demand['year'] = [time.year for time in df_demand['parking_start']]\n",
    "#df_temp = df_demand.copy()\n",
    "#df_temp['start_date'] = [time.strftime(\"%Y-%m-%d\") for time in df_temp['parking_start']]\n",
    "#df_temp['end_date'] = [time.strftime(\"%Y-%m-%d\") for time in df_temp['parking_end']]\n",
    "#df_temp.to_csv('csv/df_to_group.csv') # 2GB !! \n",
    "\n",
    "#df_temp = pd.read_csv('df_to_group.csv') "
   ]
  },
  {
   "cell_type": "markdown",
   "metadata": {},
   "source": [
    "## *Demand: Number of Parking Start*"
   ]
  },
  {
   "cell_type": "code",
   "execution_count": 14,
   "metadata": {},
   "outputs": [
    {
     "data": {
      "text/html": [
       "<div>\n",
       "<style scoped>\n",
       "    .dataframe tbody tr th:only-of-type {\n",
       "        vertical-align: middle;\n",
       "    }\n",
       "\n",
       "    .dataframe tbody tr th {\n",
       "        vertical-align: top;\n",
       "    }\n",
       "\n",
       "    .dataframe thead th {\n",
       "        text-align: right;\n",
       "    }\n",
       "</style>\n",
       "<table border=\"1\" class=\"dataframe\">\n",
       "  <thead>\n",
       "    <tr style=\"text-align: right;\">\n",
       "      <th></th>\n",
       "      <th>parkmeter_id</th>\n",
       "      <th>parking_start</th>\n",
       "      <th>parking_end</th>\n",
       "      <th>residential_area</th>\n",
       "      <th>year</th>\n",
       "      <th>start_date</th>\n",
       "      <th>end_date</th>\n",
       "    </tr>\n",
       "  </thead>\n",
       "  <tbody>\n",
       "    <tr>\n",
       "      <th>0</th>\n",
       "      <td>66391001</td>\n",
       "      <td>2014-09-09 14:02:44</td>\n",
       "      <td>2014-09-09 16:02:44</td>\n",
       "      <td>16Z</td>\n",
       "      <td>2014</td>\n",
       "      <td>2014-09-09</td>\n",
       "      <td>2014-09-09</td>\n",
       "    </tr>\n",
       "    <tr>\n",
       "      <th>1</th>\n",
       "      <td>66391001</td>\n",
       "      <td>2014-02-09 14:18:09</td>\n",
       "      <td>2014-02-09 14:33:09</td>\n",
       "      <td>16Z</td>\n",
       "      <td>2014</td>\n",
       "      <td>2014-02-09</td>\n",
       "      <td>2014-02-09</td>\n",
       "    </tr>\n",
       "    <tr>\n",
       "      <th>2084</th>\n",
       "      <td>66391001</td>\n",
       "      <td>2014-05-09 18:55:21</td>\n",
       "      <td>2014-05-09 19:25:21</td>\n",
       "      <td>16Z</td>\n",
       "      <td>2014</td>\n",
       "      <td>2014-05-09</td>\n",
       "      <td>2014-05-09</td>\n",
       "    </tr>\n",
       "    <tr>\n",
       "      <th>2085</th>\n",
       "      <td>66391001</td>\n",
       "      <td>2014-08-09 16:30:32</td>\n",
       "      <td>2014-08-09 17:15:32</td>\n",
       "      <td>16Z</td>\n",
       "      <td>2014</td>\n",
       "      <td>2014-08-09</td>\n",
       "      <td>2014-08-09</td>\n",
       "    </tr>\n",
       "    <tr>\n",
       "      <th>2086</th>\n",
       "      <td>66391001</td>\n",
       "      <td>2014-01-09 18:40:25</td>\n",
       "      <td>2014-01-09 18:55:25</td>\n",
       "      <td>16Z</td>\n",
       "      <td>2014</td>\n",
       "      <td>2014-01-09</td>\n",
       "      <td>2014-01-09</td>\n",
       "    </tr>\n",
       "  </tbody>\n",
       "</table>\n",
       "</div>"
      ],
      "text/plain": [
       "      parkmeter_id       parking_start         parking_end residential_area  \\\n",
       "0         66391001 2014-09-09 14:02:44 2014-09-09 16:02:44              16Z   \n",
       "1         66391001 2014-02-09 14:18:09 2014-02-09 14:33:09              16Z   \n",
       "2084      66391001 2014-05-09 18:55:21 2014-05-09 19:25:21              16Z   \n",
       "2085      66391001 2014-08-09 16:30:32 2014-08-09 17:15:32              16Z   \n",
       "2086      66391001 2014-01-09 18:40:25 2014-01-09 18:55:25              16Z   \n",
       "\n",
       "      year  start_date    end_date  \n",
       "0     2014  2014-09-09  2014-09-09  \n",
       "1     2014  2014-02-09  2014-02-09  \n",
       "2084  2014  2014-05-09  2014-05-09  \n",
       "2085  2014  2014-08-09  2014-08-09  \n",
       "2086  2014  2014-01-09  2014-01-09  "
      ]
     },
     "execution_count": 14,
     "metadata": {},
     "output_type": "execute_result"
    }
   ],
   "source": [
    "df_temp.head()"
   ]
  },
  {
   "cell_type": "code",
   "execution_count": 15,
   "metadata": {},
   "outputs": [
    {
     "data": {
      "text/html": [
       "<div>\n",
       "<style scoped>\n",
       "    .dataframe tbody tr th:only-of-type {\n",
       "        vertical-align: middle;\n",
       "    }\n",
       "\n",
       "    .dataframe tbody tr th {\n",
       "        vertical-align: top;\n",
       "    }\n",
       "\n",
       "    .dataframe thead th {\n",
       "        text-align: right;\n",
       "    }\n",
       "</style>\n",
       "<table border=\"1\" class=\"dataframe\">\n",
       "  <thead>\n",
       "    <tr style=\"text-align: right;\">\n",
       "      <th></th>\n",
       "      <th>residential_area</th>\n",
       "      <th>parkmeter_id</th>\n",
       "      <th>parking_start</th>\n",
       "    </tr>\n",
       "  </thead>\n",
       "  <tbody>\n",
       "    <tr>\n",
       "      <th>0</th>\n",
       "      <td>10E</td>\n",
       "      <td>1960103</td>\n",
       "      <td>10.637224</td>\n",
       "    </tr>\n",
       "    <tr>\n",
       "      <th>1</th>\n",
       "      <td>10E</td>\n",
       "      <td>1960201</td>\n",
       "      <td>14.571429</td>\n",
       "    </tr>\n",
       "    <tr>\n",
       "      <th>2</th>\n",
       "      <td>10E</td>\n",
       "      <td>4780101</td>\n",
       "      <td>8.112500</td>\n",
       "    </tr>\n",
       "    <tr>\n",
       "      <th>3</th>\n",
       "      <td>10E</td>\n",
       "      <td>9520102</td>\n",
       "      <td>3.787645</td>\n",
       "    </tr>\n",
       "    <tr>\n",
       "      <th>4</th>\n",
       "      <td>10E</td>\n",
       "      <td>9520201</td>\n",
       "      <td>18.810241</td>\n",
       "    </tr>\n",
       "  </tbody>\n",
       "</table>\n",
       "</div>"
      ],
      "text/plain": [
       "  residential_area  parkmeter_id  parking_start\n",
       "0              10E       1960103      10.637224\n",
       "1              10E       1960201      14.571429\n",
       "2              10E       4780101       8.112500\n",
       "3              10E       9520102       3.787645\n",
       "4              10E       9520201      18.810241"
      ]
     },
     "execution_count": 15,
     "metadata": {},
     "output_type": "execute_result"
    }
   ],
   "source": [
    "df = df_temp.groupby(['residential_area','parkmeter_id','start_date'], as_index = False)['parking_start'].count()\n",
    "# count on any day \n",
    "df = df.groupby(['residential_area','parkmeter_id'], as_index = False)['parking_start'].mean()\n",
    "# average count by parkmeter by day \n",
    "df.head()"
   ]
  },
  {
   "cell_type": "code",
   "execution_count": 16,
   "metadata": {
    "collapsed": true
   },
   "outputs": [],
   "source": [
    "df_zones = df.groupby('residential_area', as_index = False)['parking_start'].sum()"
   ]
  },
  {
   "cell_type": "code",
   "execution_count": 17,
   "metadata": {
    "scrolled": true
   },
   "outputs": [
    {
     "data": {
      "text/html": [
       "<div>\n",
       "<style scoped>\n",
       "    .dataframe tbody tr th:only-of-type {\n",
       "        vertical-align: middle;\n",
       "    }\n",
       "\n",
       "    .dataframe tbody tr th {\n",
       "        vertical-align: top;\n",
       "    }\n",
       "\n",
       "    .dataframe thead th {\n",
       "        text-align: right;\n",
       "    }\n",
       "</style>\n",
       "<table border=\"1\" class=\"dataframe\">\n",
       "  <thead>\n",
       "    <tr style=\"text-align: right;\">\n",
       "      <th></th>\n",
       "      <th>residential_area</th>\n",
       "      <th>parking_start</th>\n",
       "    </tr>\n",
       "  </thead>\n",
       "  <tbody>\n",
       "    <tr>\n",
       "      <th>0</th>\n",
       "      <td>10E</td>\n",
       "      <td>578.023403</td>\n",
       "    </tr>\n",
       "    <tr>\n",
       "      <th>1</th>\n",
       "      <td>10F</td>\n",
       "      <td>543.834036</td>\n",
       "    </tr>\n",
       "    <tr>\n",
       "      <th>2</th>\n",
       "      <td>10G</td>\n",
       "      <td>646.885189</td>\n",
       "    </tr>\n",
       "    <tr>\n",
       "      <th>3</th>\n",
       "      <td>11E</td>\n",
       "      <td>461.654060</td>\n",
       "    </tr>\n",
       "    <tr>\n",
       "      <th>4</th>\n",
       "      <td>11F</td>\n",
       "      <td>479.944423</td>\n",
       "    </tr>\n",
       "  </tbody>\n",
       "</table>\n",
       "</div>"
      ],
      "text/plain": [
       "  residential_area  parking_start\n",
       "0              10E     578.023403\n",
       "1              10F     543.834036\n",
       "2              10G     646.885189\n",
       "3              11E     461.654060\n",
       "4              11F     479.944423"
      ]
     },
     "execution_count": 17,
     "metadata": {},
     "output_type": "execute_result"
    }
   ],
   "source": [
    "df_zones.head()"
   ]
  },
  {
   "cell_type": "code",
   "execution_count": 18,
   "metadata": {},
   "outputs": [
    {
     "name": "stderr",
     "output_type": "stream",
     "text": [
      "/Users/louislimnavong/anaconda3/lib/python3.6/site-packages/matplotlib/axes/_axes.py:6499: MatplotlibDeprecationWarning: \n",
      "The 'normed' kwarg was deprecated in Matplotlib 2.1 and will be removed in 3.1. Use 'density' instead.\n",
      "  alternative=\"'density'\", removal=\"3.1\")\n"
     ]
    },
    {
     "data": {
      "image/png": "[encoded data removed]",
      "text/plain": [
       "<Figure size 432x288 with 1 Axes>"
      ]
     },
     "metadata": {},
     "output_type": "display_data"
    }
   ],
   "source": [
    "x_all = df_zones['parking_start']\n",
    "sns.distplot(x_all)\n",
    "plt.show()"
   ]
  },
  {
   "cell_type": "code",
   "execution_count": 19,
   "metadata": {},
   "outputs": [
    {
     "data": {
      "text/plain": [
       "count     160.000000\n",
       "mean      489.249189\n",
       "std       196.366168\n",
       "min        34.860405\n",
       "25%       361.092429\n",
       "50%       478.321627\n",
       "75%       588.037217\n",
       "max      1143.863300\n",
       "Name: parking_start, dtype: float64"
      ]
     },
     "execution_count": 19,
     "metadata": {},
     "output_type": "execute_result"
    }
   ],
   "source": [
    "df_zones['parking_start'].describe()"
   ]
  },
  {
   "cell_type": "code",
   "execution_count": 29,
   "metadata": {
    "collapsed": true
   },
   "outputs": [],
   "source": [
    "def demand_categories(count):\n",
    "    if count >= 700: \n",
    "        return 'high'\n",
    "    if count >= 500 and count < 700: \n",
    "        return 'medium high'\n",
    "    if count >= 350 and count < 500: \n",
    "        return 'medium low'\n",
    "    if count < 350: \n",
    "        return 'low'"
   ]
  },
  {
   "cell_type": "code",
   "execution_count": 30,
   "metadata": {},
   "outputs": [
    {
     "data": {
      "text/html": [
       "<div>\n",
       "<style scoped>\n",
       "    .dataframe tbody tr th:only-of-type {\n",
       "        vertical-align: middle;\n",
       "    }\n",
       "\n",
       "    .dataframe tbody tr th {\n",
       "        vertical-align: top;\n",
       "    }\n",
       "\n",
       "    .dataframe thead th {\n",
       "        text-align: right;\n",
       "    }\n",
       "</style>\n",
       "<table border=\"1\" class=\"dataframe\">\n",
       "  <thead>\n",
       "    <tr style=\"text-align: right;\">\n",
       "      <th></th>\n",
       "      <th>residential_area</th>\n",
       "      <th>parking_start</th>\n",
       "      <th>demand_category</th>\n",
       "    </tr>\n",
       "  </thead>\n",
       "  <tbody>\n",
       "    <tr>\n",
       "      <th>0</th>\n",
       "      <td>10E</td>\n",
       "      <td>578.023403</td>\n",
       "      <td>medium high</td>\n",
       "    </tr>\n",
       "    <tr>\n",
       "      <th>1</th>\n",
       "      <td>10F</td>\n",
       "      <td>543.834036</td>\n",
       "      <td>medium high</td>\n",
       "    </tr>\n",
       "    <tr>\n",
       "      <th>2</th>\n",
       "      <td>10G</td>\n",
       "      <td>646.885189</td>\n",
       "      <td>medium high</td>\n",
       "    </tr>\n",
       "    <tr>\n",
       "      <th>3</th>\n",
       "      <td>11E</td>\n",
       "      <td>461.654060</td>\n",
       "      <td>medium low</td>\n",
       "    </tr>\n",
       "    <tr>\n",
       "      <th>4</th>\n",
       "      <td>11F</td>\n",
       "      <td>479.944423</td>\n",
       "      <td>medium low</td>\n",
       "    </tr>\n",
       "  </tbody>\n",
       "</table>\n",
       "</div>"
      ],
      "text/plain": [
       "  residential_area  parking_start demand_category\n",
       "0              10E     578.023403     medium high\n",
       "1              10F     543.834036     medium high\n",
       "2              10G     646.885189     medium high\n",
       "3              11E     461.654060      medium low\n",
       "4              11F     479.944423      medium low"
      ]
     },
     "execution_count": 30,
     "metadata": {},
     "output_type": "execute_result"
    }
   ],
   "source": [
    "df_zones['demand_category'] = [demand_categories(count) for count in df_zones['parking_start']]\n",
    "df_zones.head()"
   ]
  },
  {
   "cell_type": "code",
   "execution_count": 32,
   "metadata": {},
   "outputs": [
    {
     "data": {
      "text/html": [
       "<div>\n",
       "<style scoped>\n",
       "    .dataframe tbody tr th:only-of-type {\n",
       "        vertical-align: middle;\n",
       "    }\n",
       "\n",
       "    .dataframe tbody tr th {\n",
       "        vertical-align: top;\n",
       "    }\n",
       "\n",
       "    .dataframe thead th {\n",
       "        text-align: right;\n",
       "    }\n",
       "</style>\n",
       "<table border=\"1\" class=\"dataframe\">\n",
       "  <thead>\n",
       "    <tr style=\"text-align: right;\">\n",
       "      <th></th>\n",
       "      <th>demand_category</th>\n",
       "      <th>residential_area</th>\n",
       "      <th>parking_start</th>\n",
       "    </tr>\n",
       "  </thead>\n",
       "  <tbody>\n",
       "    <tr>\n",
       "      <th>0</th>\n",
       "      <td>high</td>\n",
       "      <td>17</td>\n",
       "      <td>17</td>\n",
       "    </tr>\n",
       "    <tr>\n",
       "      <th>1</th>\n",
       "      <td>low</td>\n",
       "      <td>37</td>\n",
       "      <td>37</td>\n",
       "    </tr>\n",
       "    <tr>\n",
       "      <th>2</th>\n",
       "      <td>medium high</td>\n",
       "      <td>58</td>\n",
       "      <td>58</td>\n",
       "    </tr>\n",
       "    <tr>\n",
       "      <th>3</th>\n",
       "      <td>medium low</td>\n",
       "      <td>48</td>\n",
       "      <td>48</td>\n",
       "    </tr>\n",
       "  </tbody>\n",
       "</table>\n",
       "</div>"
      ],
      "text/plain": [
       "  demand_category  residential_area  parking_start\n",
       "0            high                17             17\n",
       "1             low                37             37\n",
       "2     medium high                58             58\n",
       "3      medium low                48             48"
      ]
     },
     "execution_count": 32,
     "metadata": {},
     "output_type": "execute_result"
    }
   ],
   "source": [
    "temp = df_zones.groupby('demand_category').count().reset_index()\n",
    "temp.head()"
   ]
  },
  {
   "cell_type": "code",
   "execution_count": 33,
   "metadata": {},
   "outputs": [
    {
     "data": {
      "text/html": [
       "<div>\n",
       "<style scoped>\n",
       "    .dataframe tbody tr th:only-of-type {\n",
       "        vertical-align: middle;\n",
       "    }\n",
       "\n",
       "    .dataframe tbody tr th {\n",
       "        vertical-align: top;\n",
       "    }\n",
       "\n",
       "    .dataframe thead th {\n",
       "        text-align: right;\n",
       "    }\n",
       "</style>\n",
       "<table border=\"1\" class=\"dataframe\">\n",
       "  <thead>\n",
       "    <tr style=\"text-align: right;\">\n",
       "      <th></th>\n",
       "      <th>residential_area</th>\n",
       "      <th>parking_start</th>\n",
       "      <th>demand_category</th>\n",
       "    </tr>\n",
       "  </thead>\n",
       "  <tbody>\n",
       "    <tr>\n",
       "      <th>9</th>\n",
       "      <td>11L</td>\n",
       "      <td>769.073866</td>\n",
       "      <td>high</td>\n",
       "    </tr>\n",
       "    <tr>\n",
       "      <th>27</th>\n",
       "      <td>13L</td>\n",
       "      <td>877.448792</td>\n",
       "      <td>high</td>\n",
       "    </tr>\n",
       "    <tr>\n",
       "      <th>28</th>\n",
       "      <td>13M</td>\n",
       "      <td>975.988031</td>\n",
       "      <td>high</td>\n",
       "    </tr>\n",
       "    <tr>\n",
       "      <th>41</th>\n",
       "      <td>14N</td>\n",
       "      <td>997.580159</td>\n",
       "      <td>high</td>\n",
       "    </tr>\n",
       "    <tr>\n",
       "      <th>46</th>\n",
       "      <td>15H</td>\n",
       "      <td>968.144981</td>\n",
       "      <td>high</td>\n",
       "    </tr>\n",
       "    <tr>\n",
       "      <th>90</th>\n",
       "      <td>17R</td>\n",
       "      <td>815.717163</td>\n",
       "      <td>high</td>\n",
       "    </tr>\n",
       "    <tr>\n",
       "      <th>117</th>\n",
       "      <td>1E</td>\n",
       "      <td>849.162880</td>\n",
       "      <td>high</td>\n",
       "    </tr>\n",
       "    <tr>\n",
       "      <th>130</th>\n",
       "      <td>34F</td>\n",
       "      <td>760.265586</td>\n",
       "      <td>high</td>\n",
       "    </tr>\n",
       "    <tr>\n",
       "      <th>131</th>\n",
       "      <td>3E</td>\n",
       "      <td>1118.719420</td>\n",
       "      <td>high</td>\n",
       "    </tr>\n",
       "    <tr>\n",
       "      <th>132</th>\n",
       "      <td>4E</td>\n",
       "      <td>733.364445</td>\n",
       "      <td>high</td>\n",
       "    </tr>\n",
       "    <tr>\n",
       "      <th>137</th>\n",
       "      <td>5J</td>\n",
       "      <td>802.357380</td>\n",
       "      <td>high</td>\n",
       "    </tr>\n",
       "    <tr>\n",
       "      <th>138</th>\n",
       "      <td>6E</td>\n",
       "      <td>1051.051764</td>\n",
       "      <td>high</td>\n",
       "    </tr>\n",
       "    <tr>\n",
       "      <th>150</th>\n",
       "      <td>8E</td>\n",
       "      <td>968.090856</td>\n",
       "      <td>high</td>\n",
       "    </tr>\n",
       "    <tr>\n",
       "      <th>151</th>\n",
       "      <td>8F</td>\n",
       "      <td>794.354077</td>\n",
       "      <td>high</td>\n",
       "    </tr>\n",
       "    <tr>\n",
       "      <th>153</th>\n",
       "      <td>8H</td>\n",
       "      <td>816.833635</td>\n",
       "      <td>high</td>\n",
       "    </tr>\n",
       "    <tr>\n",
       "      <th>157</th>\n",
       "      <td>9E</td>\n",
       "      <td>787.200105</td>\n",
       "      <td>high</td>\n",
       "    </tr>\n",
       "    <tr>\n",
       "      <th>159</th>\n",
       "      <td>9G</td>\n",
       "      <td>1143.863300</td>\n",
       "      <td>high</td>\n",
       "    </tr>\n",
       "  </tbody>\n",
       "</table>\n",
       "</div>"
      ],
      "text/plain": [
       "    residential_area  parking_start demand_category\n",
       "9                11L     769.073866            high\n",
       "27               13L     877.448792            high\n",
       "28               13M     975.988031            high\n",
       "41               14N     997.580159            high\n",
       "46               15H     968.144981            high\n",
       "90               17R     815.717163            high\n",
       "117               1E     849.162880            high\n",
       "130              34F     760.265586            high\n",
       "131               3E    1118.719420            high\n",
       "132               4E     733.364445            high\n",
       "137               5J     802.357380            high\n",
       "138               6E    1051.051764            high\n",
       "150               8E     968.090856            high\n",
       "151               8F     794.354077            high\n",
       "153               8H     816.833635            high\n",
       "157               9E     787.200105            high\n",
       "159               9G    1143.863300            high"
      ]
     },
     "execution_count": 33,
     "metadata": {},
     "output_type": "execute_result"
    }
   ],
   "source": [
    "df_zones[df_zones['demand_category'] == 'high']"
   ]
  },
  {
   "cell_type": "code",
   "execution_count": 35,
   "metadata": {
    "collapsed": true
   },
   "outputs": [],
   "source": [
    "#df_zones.to_excel('tables/demand_category.xlsx')"
   ]
  },
  {
   "cell_type": "code",
   "execution_count": 34,
   "metadata": {
    "collapsed": true
   },
   "outputs": [],
   "source": [
    "#df_zones.to_csv('csv/demand_category.csv')"
   ]
  }
 ],
 "metadata": {
  "kernelspec": {
   "display_name": "Python 3",
   "language": "python",
   "name": "python3"
  },
  "language_info": {
   "codemirror_mode": {
    "name": "ipython",
    "version": 3
   },
   "file_extension": ".py",
   "mimetype": "text/x-python",
   "name": "python",
   "nbconvert_exporter": "python",
   "pygments_lexer": "ipython3",
   "version": "3.6.2"
  }
 },
 "nbformat": 4,
 "nbformat_minor": 2
}
