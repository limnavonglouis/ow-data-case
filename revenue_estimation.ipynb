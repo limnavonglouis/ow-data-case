{
 "cells": [
  {
   "cell_type": "markdown",
   "metadata": {},
   "source": [
    "# Reading the data"
   ]
  },
  {
   "cell_type": "code",
   "execution_count": 1,
   "metadata": {
    "collapsed": true
   },
   "outputs": [],
   "source": [
    "import pandas as pd\n",
    "import seaborn as sns\n",
    "from math import ceil\n",
    "from matplotlib import pyplot as plt"
   ]
  },
  {
   "cell_type": "code",
   "execution_count": 2,
   "metadata": {
    "collapsed": true
   },
   "outputs": [],
   "source": [
    "path = 'stored_data_case.h5'"
   ]
  },
  {
   "cell_type": "code",
   "execution_count": 3,
   "metadata": {
    "collapsed": true
   },
   "outputs": [],
   "source": [
    "def read_HDF_file(file_name, table):\n",
    "    with pd.HDFStore(file_name, complevel=9, complib='blosc') as store:\n",
    "         return store[table]"
   ]
  },
  {
   "cell_type": "code",
   "execution_count": 4,
   "metadata": {},
   "outputs": [],
   "source": [
    "df_groups = pd.read_csv('residential_zones.csv')\n",
    "df_groups = df_groups[['residential_area', 'demand_category', 'cluster']]"
   ]
  },
  {
   "cell_type": "code",
   "execution_count": 5,
   "metadata": {},
   "outputs": [
    {
     "data": {
      "text/html": [
       "<div>\n",
       "<style scoped>\n",
       "    .dataframe tbody tr th:only-of-type {\n",
       "        vertical-align: middle;\n",
       "    }\n",
       "\n",
       "    .dataframe tbody tr th {\n",
       "        vertical-align: top;\n",
       "    }\n",
       "\n",
       "    .dataframe thead th {\n",
       "        text-align: right;\n",
       "    }\n",
       "</style>\n",
       "<table border=\"1\" class=\"dataframe\">\n",
       "  <thead>\n",
       "    <tr style=\"text-align: right;\">\n",
       "      <th></th>\n",
       "      <th>residential_area</th>\n",
       "      <th>demand_category</th>\n",
       "      <th>cluster</th>\n",
       "    </tr>\n",
       "  </thead>\n",
       "  <tbody>\n",
       "    <tr>\n",
       "      <th>0</th>\n",
       "      <td>10E</td>\n",
       "      <td>medium high</td>\n",
       "      <td>3</td>\n",
       "    </tr>\n",
       "    <tr>\n",
       "      <th>1</th>\n",
       "      <td>10F</td>\n",
       "      <td>medium high</td>\n",
       "      <td>3</td>\n",
       "    </tr>\n",
       "    <tr>\n",
       "      <th>2</th>\n",
       "      <td>10G</td>\n",
       "      <td>medium high</td>\n",
       "      <td>3</td>\n",
       "    </tr>\n",
       "    <tr>\n",
       "      <th>3</th>\n",
       "      <td>11E</td>\n",
       "      <td>medium low</td>\n",
       "      <td>4</td>\n",
       "    </tr>\n",
       "    <tr>\n",
       "      <th>4</th>\n",
       "      <td>11F</td>\n",
       "      <td>medium low</td>\n",
       "      <td>4</td>\n",
       "    </tr>\n",
       "  </tbody>\n",
       "</table>\n",
       "</div>"
      ],
      "text/plain": [
       "  residential_area demand_category  cluster\n",
       "0              10E     medium high        3\n",
       "1              10F     medium high        3\n",
       "2              10G     medium high        3\n",
       "3              11E      medium low        4\n",
       "4              11F      medium low        4"
      ]
     },
     "execution_count": 5,
     "metadata": {},
     "output_type": "execute_result"
    }
   ],
   "source": [
    "df_groups.head()"
   ]
  },
  {
   "cell_type": "code",
   "execution_count": 6,
   "metadata": {
    "collapsed": true
   },
   "outputs": [],
   "source": [
    "df = read_HDF_file(path,'/transaction_and_locations')"
   ]
  },
  {
   "cell_type": "code",
   "execution_count": 7,
   "metadata": {
    "scrolled": true
   },
   "outputs": [
    {
     "data": {
      "text/html": [
       "<div>\n",
       "<style scoped>\n",
       "    .dataframe tbody tr th:only-of-type {\n",
       "        vertical-align: middle;\n",
       "    }\n",
       "\n",
       "    .dataframe tbody tr th {\n",
       "        vertical-align: top;\n",
       "    }\n",
       "\n",
       "    .dataframe thead th {\n",
       "        text-align: right;\n",
       "    }\n",
       "</style>\n",
       "<table border=\"1\" class=\"dataframe\">\n",
       "  <thead>\n",
       "    <tr style=\"text-align: right;\">\n",
       "      <th></th>\n",
       "      <th>parkmeter_id</th>\n",
       "      <th>user_type</th>\n",
       "      <th>payment_method</th>\n",
       "      <th>amount</th>\n",
       "      <th>duration_hours</th>\n",
       "      <th>parking_start</th>\n",
       "      <th>parking_end</th>\n",
       "      <th>parkmeter_address</th>\n",
       "      <th>arrondissement</th>\n",
       "      <th>system</th>\n",
       "      <th>residential_area</th>\n",
       "      <th>hourly_rate</th>\n",
       "      <th>parkmeter_coordinates</th>\n",
       "    </tr>\n",
       "  </thead>\n",
       "  <tbody>\n",
       "    <tr>\n",
       "      <th>0</th>\n",
       "      <td>66391001</td>\n",
       "      <td>Rotatif</td>\n",
       "      <td>CB</td>\n",
       "      <td>2.4</td>\n",
       "      <td>2.00</td>\n",
       "      <td>2014-09-09 14:02:44</td>\n",
       "      <td>2014-09-09 16:02:44</td>\n",
       "      <td>121 BOULEVARD MURAT</td>\n",
       "      <td>16</td>\n",
       "      <td>MIX</td>\n",
       "      <td>16Z</td>\n",
       "      <td>2.4</td>\n",
       "      <td>48.8373519997, 2.25909199964</td>\n",
       "    </tr>\n",
       "    <tr>\n",
       "      <th>1</th>\n",
       "      <td>66391001</td>\n",
       "      <td>Rotatif</td>\n",
       "      <td>Paris Carte</td>\n",
       "      <td>0.3</td>\n",
       "      <td>0.25</td>\n",
       "      <td>2014-02-09 14:18:09</td>\n",
       "      <td>2014-02-09 14:33:09</td>\n",
       "      <td>121 BOULEVARD MURAT</td>\n",
       "      <td>16</td>\n",
       "      <td>MIX</td>\n",
       "      <td>16Z</td>\n",
       "      <td>2.4</td>\n",
       "      <td>48.8373519997, 2.25909199964</td>\n",
       "    </tr>\n",
       "    <tr>\n",
       "      <th>2084</th>\n",
       "      <td>66391001</td>\n",
       "      <td>Rotatif</td>\n",
       "      <td>CB</td>\n",
       "      <td>0.6</td>\n",
       "      <td>0.50</td>\n",
       "      <td>2014-05-09 18:55:21</td>\n",
       "      <td>2014-05-09 19:25:21</td>\n",
       "      <td>121 BOULEVARD MURAT</td>\n",
       "      <td>16</td>\n",
       "      <td>MIX</td>\n",
       "      <td>16Z</td>\n",
       "      <td>2.4</td>\n",
       "      <td>48.8373519997, 2.25909199964</td>\n",
       "    </tr>\n",
       "    <tr>\n",
       "      <th>2085</th>\n",
       "      <td>66391001</td>\n",
       "      <td>Rotatif</td>\n",
       "      <td>CB</td>\n",
       "      <td>0.9</td>\n",
       "      <td>0.75</td>\n",
       "      <td>2014-08-09 16:30:32</td>\n",
       "      <td>2014-08-09 17:15:32</td>\n",
       "      <td>121 BOULEVARD MURAT</td>\n",
       "      <td>16</td>\n",
       "      <td>MIX</td>\n",
       "      <td>16Z</td>\n",
       "      <td>2.4</td>\n",
       "      <td>48.8373519997, 2.25909199964</td>\n",
       "    </tr>\n",
       "    <tr>\n",
       "      <th>2086</th>\n",
       "      <td>66391001</td>\n",
       "      <td>Rotatif</td>\n",
       "      <td>Paris Carte</td>\n",
       "      <td>0.3</td>\n",
       "      <td>0.25</td>\n",
       "      <td>2014-01-09 18:40:25</td>\n",
       "      <td>2014-01-09 18:55:25</td>\n",
       "      <td>121 BOULEVARD MURAT</td>\n",
       "      <td>16</td>\n",
       "      <td>MIX</td>\n",
       "      <td>16Z</td>\n",
       "      <td>2.4</td>\n",
       "      <td>48.8373519997, 2.25909199964</td>\n",
       "    </tr>\n",
       "  </tbody>\n",
       "</table>\n",
       "</div>"
      ],
      "text/plain": [
       "      parkmeter_id user_type payment_method  amount  duration_hours  \\\n",
       "0         66391001   Rotatif             CB     2.4            2.00   \n",
       "1         66391001   Rotatif    Paris Carte     0.3            0.25   \n",
       "2084      66391001   Rotatif             CB     0.6            0.50   \n",
       "2085      66391001   Rotatif             CB     0.9            0.75   \n",
       "2086      66391001   Rotatif    Paris Carte     0.3            0.25   \n",
       "\n",
       "           parking_start         parking_end    parkmeter_address  \\\n",
       "0    2014-09-09 14:02:44 2014-09-09 16:02:44  121 BOULEVARD MURAT   \n",
       "1    2014-02-09 14:18:09 2014-02-09 14:33:09  121 BOULEVARD MURAT   \n",
       "2084 2014-05-09 18:55:21 2014-05-09 19:25:21  121 BOULEVARD MURAT   \n",
       "2085 2014-08-09 16:30:32 2014-08-09 17:15:32  121 BOULEVARD MURAT   \n",
       "2086 2014-01-09 18:40:25 2014-01-09 18:55:25  121 BOULEVARD MURAT   \n",
       "\n",
       "      arrondissement system residential_area  hourly_rate  \\\n",
       "0                 16    MIX              16Z          2.4   \n",
       "1                 16    MIX              16Z          2.4   \n",
       "2084              16    MIX              16Z          2.4   \n",
       "2085              16    MIX              16Z          2.4   \n",
       "2086              16    MIX              16Z          2.4   \n",
       "\n",
       "             parkmeter_coordinates  \n",
       "0     48.8373519997, 2.25909199964  \n",
       "1     48.8373519997, 2.25909199964  \n",
       "2084  48.8373519997, 2.25909199964  \n",
       "2085  48.8373519997, 2.25909199964  \n",
       "2086  48.8373519997, 2.25909199964  "
      ]
     },
     "execution_count": 7,
     "metadata": {},
     "output_type": "execute_result"
    }
   ],
   "source": [
    "df.head()"
   ]
  },
  {
   "cell_type": "code",
   "execution_count": 8,
   "metadata": {
    "collapsed": true
   },
   "outputs": [],
   "source": [
    "#df_sample = df\n",
    "df_sample = df.sample(n=100000)"
   ]
  },
  {
   "cell_type": "code",
   "execution_count": 9,
   "metadata": {},
   "outputs": [
    {
     "data": {
      "text/html": [
       "<div>\n",
       "<style scoped>\n",
       "    .dataframe tbody tr th:only-of-type {\n",
       "        vertical-align: middle;\n",
       "    }\n",
       "\n",
       "    .dataframe tbody tr th {\n",
       "        vertical-align: top;\n",
       "    }\n",
       "\n",
       "    .dataframe thead th {\n",
       "        text-align: right;\n",
       "    }\n",
       "</style>\n",
       "<table border=\"1\" class=\"dataframe\">\n",
       "  <thead>\n",
       "    <tr style=\"text-align: right;\">\n",
       "      <th></th>\n",
       "      <th>parkmeter_id</th>\n",
       "      <th>user_type</th>\n",
       "      <th>payment_method</th>\n",
       "      <th>amount</th>\n",
       "      <th>duration_hours</th>\n",
       "      <th>parking_start</th>\n",
       "      <th>parking_end</th>\n",
       "      <th>parkmeter_address</th>\n",
       "      <th>arrondissement</th>\n",
       "      <th>system</th>\n",
       "      <th>residential_area</th>\n",
       "      <th>hourly_rate</th>\n",
       "      <th>parkmeter_coordinates</th>\n",
       "    </tr>\n",
       "  </thead>\n",
       "  <tbody>\n",
       "    <tr>\n",
       "      <th>18964205</th>\n",
       "      <td>60230101</td>\n",
       "      <td>Résident</td>\n",
       "      <td>CB</td>\n",
       "      <td>3.25</td>\n",
       "      <td>50.00</td>\n",
       "      <td>2014-01-12 13:01:08</td>\n",
       "      <td>2014-08-12 14:01:08</td>\n",
       "      <td>14 RUE CUVIER</td>\n",
       "      <td>5</td>\n",
       "      <td>MIX</td>\n",
       "      <td>5G</td>\n",
       "      <td>4.0</td>\n",
       "      <td>48.8443614501, 2.3560184896</td>\n",
       "    </tr>\n",
       "    <tr>\n",
       "      <th>8081839</th>\n",
       "      <td>98840106</td>\n",
       "      <td>Rotatif</td>\n",
       "      <td>CB</td>\n",
       "      <td>2.40</td>\n",
       "      <td>2.00</td>\n",
       "      <td>2014-03-07 15:32:24</td>\n",
       "      <td>2014-03-07 17:32:24</td>\n",
       "      <td>12 RUE DE LA VISTULE</td>\n",
       "      <td>13</td>\n",
       "      <td>MIX</td>\n",
       "      <td>13M</td>\n",
       "      <td>2.4</td>\n",
       "      <td>48.8233319998, 2.36027900021</td>\n",
       "    </tr>\n",
       "    <tr>\n",
       "      <th>19050724</th>\n",
       "      <td>46930402</td>\n",
       "      <td>Résident</td>\n",
       "      <td>Paris Carte</td>\n",
       "      <td>0.65</td>\n",
       "      <td>10.00</td>\n",
       "      <td>2014-11-21 10:56:36</td>\n",
       "      <td>2014-11-24 10:56:36</td>\n",
       "      <td>58 AVENUE D IENA</td>\n",
       "      <td>16</td>\n",
       "      <td>MIX</td>\n",
       "      <td>16G</td>\n",
       "      <td>2.4</td>\n",
       "      <td>48.8683649998, 2.29585999935</td>\n",
       "    </tr>\n",
       "    <tr>\n",
       "      <th>7762746</th>\n",
       "      <td>95100204</td>\n",
       "      <td>Rotatif</td>\n",
       "      <td>CB</td>\n",
       "      <td>4.80</td>\n",
       "      <td>2.00</td>\n",
       "      <td>2014-06-18 23:39:30</td>\n",
       "      <td>2014-06-19 13:00:00</td>\n",
       "      <td>24 RUE DE TURIN</td>\n",
       "      <td>8</td>\n",
       "      <td>MIX</td>\n",
       "      <td>8L</td>\n",
       "      <td>4.0</td>\n",
       "      <td>48.881327, 2.32470700024</td>\n",
       "    </tr>\n",
       "    <tr>\n",
       "      <th>6194767</th>\n",
       "      <td>70760301</td>\n",
       "      <td>Résident</td>\n",
       "      <td>Paris Carte</td>\n",
       "      <td>2.10</td>\n",
       "      <td>32.31</td>\n",
       "      <td>2014-02-16 12:33:20</td>\n",
       "      <td>2014-02-21 20:00:00</td>\n",
       "      <td>23 RUE PASCAL</td>\n",
       "      <td>5</td>\n",
       "      <td>MIX</td>\n",
       "      <td>5E</td>\n",
       "      <td>4.0</td>\n",
       "      <td>48.8373930003, 2.34920200027</td>\n",
       "    </tr>\n",
       "  </tbody>\n",
       "</table>\n",
       "</div>"
      ],
      "text/plain": [
       "          parkmeter_id user_type payment_method  amount  duration_hours  \\\n",
       "18964205      60230101  Résident             CB    3.25           50.00   \n",
       "8081839       98840106   Rotatif             CB    2.40            2.00   \n",
       "19050724      46930402  Résident    Paris Carte    0.65           10.00   \n",
       "7762746       95100204   Rotatif             CB    4.80            2.00   \n",
       "6194767       70760301  Résident    Paris Carte    2.10           32.31   \n",
       "\n",
       "               parking_start         parking_end     parkmeter_address  \\\n",
       "18964205 2014-01-12 13:01:08 2014-08-12 14:01:08         14 RUE CUVIER   \n",
       "8081839  2014-03-07 15:32:24 2014-03-07 17:32:24  12 RUE DE LA VISTULE   \n",
       "19050724 2014-11-21 10:56:36 2014-11-24 10:56:36      58 AVENUE D IENA   \n",
       "7762746  2014-06-18 23:39:30 2014-06-19 13:00:00       24 RUE DE TURIN   \n",
       "6194767  2014-02-16 12:33:20 2014-02-21 20:00:00         23 RUE PASCAL   \n",
       "\n",
       "          arrondissement system residential_area  hourly_rate  \\\n",
       "18964205               5    MIX               5G          4.0   \n",
       "8081839               13    MIX              13M          2.4   \n",
       "19050724              16    MIX              16G          2.4   \n",
       "7762746                8    MIX               8L          4.0   \n",
       "6194767                5    MIX               5E          4.0   \n",
       "\n",
       "                 parkmeter_coordinates  \n",
       "18964205   48.8443614501, 2.3560184896  \n",
       "8081839   48.8233319998, 2.36027900021  \n",
       "19050724  48.8683649998, 2.29585999935  \n",
       "7762746       48.881327, 2.32470700024  \n",
       "6194767   48.8373930003, 2.34920200027  "
      ]
     },
     "execution_count": 9,
     "metadata": {},
     "output_type": "execute_result"
    }
   ],
   "source": [
    "df_sample.head()"
   ]
  },
  {
   "cell_type": "markdown",
   "metadata": {},
   "source": [
    "# Revenue pre case "
   ]
  },
  {
   "cell_type": "code",
   "execution_count": 19,
   "metadata": {},
   "outputs": [],
   "source": [
    "df_sample['revenue'] = df_sample['duration_hours'] * df_sample['hourly_rate']\n",
    "old = df_sample['revenue'].sum()"
   ]
  },
  {
   "cell_type": "markdown",
   "metadata": {},
   "source": [
    "# Revenue post case "
   ]
  },
  {
   "cell_type": "code",
   "execution_count": 11,
   "metadata": {
    "scrolled": true
   },
   "outputs": [
    {
     "data": {
      "text/html": [
       "<div>\n",
       "<style scoped>\n",
       "    .dataframe tbody tr th:only-of-type {\n",
       "        vertical-align: middle;\n",
       "    }\n",
       "\n",
       "    .dataframe tbody tr th {\n",
       "        vertical-align: top;\n",
       "    }\n",
       "\n",
       "    .dataframe thead th {\n",
       "        text-align: right;\n",
       "    }\n",
       "</style>\n",
       "<table border=\"1\" class=\"dataframe\">\n",
       "  <thead>\n",
       "    <tr style=\"text-align: right;\">\n",
       "      <th></th>\n",
       "      <th>parkmeter_id</th>\n",
       "      <th>user_type</th>\n",
       "      <th>payment_method</th>\n",
       "      <th>amount</th>\n",
       "      <th>duration_hours</th>\n",
       "      <th>parking_start</th>\n",
       "      <th>parking_end</th>\n",
       "      <th>parkmeter_address</th>\n",
       "      <th>arrondissement</th>\n",
       "      <th>system</th>\n",
       "      <th>residential_area</th>\n",
       "      <th>hourly_rate</th>\n",
       "      <th>parkmeter_coordinates</th>\n",
       "      <th>revenue</th>\n",
       "      <th>demand_category</th>\n",
       "      <th>cluster</th>\n",
       "    </tr>\n",
       "  </thead>\n",
       "  <tbody>\n",
       "    <tr>\n",
       "      <th>0</th>\n",
       "      <td>60230101</td>\n",
       "      <td>Résident</td>\n",
       "      <td>CB</td>\n",
       "      <td>3.25</td>\n",
       "      <td>50.00</td>\n",
       "      <td>2014-01-12 13:01:08</td>\n",
       "      <td>2014-08-12 14:01:08</td>\n",
       "      <td>14 RUE CUVIER</td>\n",
       "      <td>5</td>\n",
       "      <td>MIX</td>\n",
       "      <td>5G</td>\n",
       "      <td>4.0</td>\n",
       "      <td>48.8443614501, 2.3560184896</td>\n",
       "      <td>200.0</td>\n",
       "      <td>medium high</td>\n",
       "      <td>1</td>\n",
       "    </tr>\n",
       "    <tr>\n",
       "      <th>1</th>\n",
       "      <td>17540101</td>\n",
       "      <td>Rotatif</td>\n",
       "      <td>Paris Carte</td>\n",
       "      <td>2.70</td>\n",
       "      <td>0.75</td>\n",
       "      <td>2014-03-11 15:36:05</td>\n",
       "      <td>2014-03-11 16:21:05</td>\n",
       "      <td>3 RUE DES CHANTIERS</td>\n",
       "      <td>5</td>\n",
       "      <td>MIX</td>\n",
       "      <td>5G</td>\n",
       "      <td>4.0</td>\n",
       "      <td>48.8489310002, 2.35484800059</td>\n",
       "      <td>3.0</td>\n",
       "      <td>medium high</td>\n",
       "      <td>1</td>\n",
       "    </tr>\n",
       "    <tr>\n",
       "      <th>2</th>\n",
       "      <td>73010204</td>\n",
       "      <td>Résident</td>\n",
       "      <td>CB</td>\n",
       "      <td>3.25</td>\n",
       "      <td>50.00</td>\n",
       "      <td>2014-02-25 19:56:28</td>\n",
       "      <td>2014-04-03 20:56:28</td>\n",
       "      <td>12 RUE PESTALOZZI</td>\n",
       "      <td>5</td>\n",
       "      <td>MIX</td>\n",
       "      <td>5G</td>\n",
       "      <td>4.0</td>\n",
       "      <td>48.8417800001, 2.3509930006</td>\n",
       "      <td>200.0</td>\n",
       "      <td>medium high</td>\n",
       "      <td>1</td>\n",
       "    </tr>\n",
       "    <tr>\n",
       "      <th>3</th>\n",
       "      <td>52200604</td>\n",
       "      <td>Rotatif</td>\n",
       "      <td>Paris Carte</td>\n",
       "      <td>3.60</td>\n",
       "      <td>1.00</td>\n",
       "      <td>2014-05-15 14:07:00</td>\n",
       "      <td>2014-05-15 15:07:00</td>\n",
       "      <td>36 RUE LACEPEDE</td>\n",
       "      <td>5</td>\n",
       "      <td>MIX</td>\n",
       "      <td>5G</td>\n",
       "      <td>4.0</td>\n",
       "      <td>48.8441389997, 2.35105999971</td>\n",
       "      <td>4.0</td>\n",
       "      <td>medium high</td>\n",
       "      <td>1</td>\n",
       "    </tr>\n",
       "    <tr>\n",
       "      <th>4</th>\n",
       "      <td>20940402</td>\n",
       "      <td>Rotatif</td>\n",
       "      <td>Paris Carte</td>\n",
       "      <td>0.90</td>\n",
       "      <td>0.25</td>\n",
       "      <td>2014-05-16 16:55:29</td>\n",
       "      <td>2014-05-16 17:10:29</td>\n",
       "      <td>48 RUE DE LA CLEF</td>\n",
       "      <td>5</td>\n",
       "      <td>MIX</td>\n",
       "      <td>5G</td>\n",
       "      <td>4.0</td>\n",
       "      <td>48.8427430001, 2.35279300051</td>\n",
       "      <td>1.0</td>\n",
       "      <td>medium high</td>\n",
       "      <td>1</td>\n",
       "    </tr>\n",
       "  </tbody>\n",
       "</table>\n",
       "</div>"
      ],
      "text/plain": [
       "   parkmeter_id user_type payment_method  amount  duration_hours  \\\n",
       "0      60230101  Résident             CB    3.25           50.00   \n",
       "1      17540101   Rotatif    Paris Carte    2.70            0.75   \n",
       "2      73010204  Résident             CB    3.25           50.00   \n",
       "3      52200604   Rotatif    Paris Carte    3.60            1.00   \n",
       "4      20940402   Rotatif    Paris Carte    0.90            0.25   \n",
       "\n",
       "        parking_start         parking_end    parkmeter_address  \\\n",
       "0 2014-01-12 13:01:08 2014-08-12 14:01:08        14 RUE CUVIER   \n",
       "1 2014-03-11 15:36:05 2014-03-11 16:21:05  3 RUE DES CHANTIERS   \n",
       "2 2014-02-25 19:56:28 2014-04-03 20:56:28    12 RUE PESTALOZZI   \n",
       "3 2014-05-15 14:07:00 2014-05-15 15:07:00      36 RUE LACEPEDE   \n",
       "4 2014-05-16 16:55:29 2014-05-16 17:10:29    48 RUE DE LA CLEF   \n",
       "\n",
       "   arrondissement system residential_area  hourly_rate  \\\n",
       "0               5    MIX               5G          4.0   \n",
       "1               5    MIX               5G          4.0   \n",
       "2               5    MIX               5G          4.0   \n",
       "3               5    MIX               5G          4.0   \n",
       "4               5    MIX               5G          4.0   \n",
       "\n",
       "          parkmeter_coordinates  revenue demand_category  cluster  \n",
       "0   48.8443614501, 2.3560184896    200.0     medium high        1  \n",
       "1  48.8489310002, 2.35484800059      3.0     medium high        1  \n",
       "2   48.8417800001, 2.3509930006    200.0     medium high        1  \n",
       "3  48.8441389997, 2.35105999971      4.0     medium high        1  \n",
       "4  48.8427430001, 2.35279300051      1.0     medium high        1  "
      ]
     },
     "execution_count": 11,
     "metadata": {},
     "output_type": "execute_result"
    }
   ],
   "source": [
    "df_sample = df_sample.merge(df_groups, on = ['residential_area'])\n",
    "df_sample.head()"
   ]
  },
  {
   "cell_type": "code",
   "execution_count": 12,
   "metadata": {
    "collapsed": true
   },
   "outputs": [],
   "source": [
    "baselines = dict()\n",
    "baselines['low'] = 3\n",
    "baselines['medium low'] = 3.5\n",
    "baselines['medium high'] = 4\n",
    "baselines['high'] = 4.5 "
   ]
  },
  {
   "cell_type": "code",
   "execution_count": 13,
   "metadata": {
    "collapsed": true
   },
   "outputs": [],
   "source": [
    "discount = dict()\n",
    "discount[1] = 0\n",
    "discount[3] = 0.1\n",
    "discount[4] = 0.15\n",
    "discount[2] = 0.20 "
   ]
  },
  {
   "cell_type": "code",
   "execution_count": 14,
   "metadata": {},
   "outputs": [
    {
     "data": {
      "text/plain": [
       "duration_hours            0.75\n",
       "demand_category    medium high\n",
       "cluster                      1\n",
       "Name: 1, dtype: object"
      ]
     },
     "execution_count": 14,
     "metadata": {},
     "output_type": "execute_result"
    }
   ],
   "source": [
    "test = df_sample[['duration_hours', 'demand_category','cluster']].copy()\n",
    "test.loc[1]"
   ]
  },
  {
   "cell_type": "code",
   "execution_count": 15,
   "metadata": {
    "collapsed": true
   },
   "outputs": [],
   "source": [
    "def new_revenue(transaction) :\n",
    "    duration = transaction[0]\n",
    "    demand = transaction[1]\n",
    "    cluster = transaction[2]\n",
    "    n = ceil(duration)\n",
    "    rate = (1-discount[cluster]**n)/(1-discount[cluster])\n",
    "    return baselines[demand] * duration * rate"
   ]
  },
  {
   "cell_type": "code",
   "execution_count": 16,
   "metadata": {},
   "outputs": [],
   "source": [
    "test['new_revenue'] = test.apply(lambda x: new_revenue(x), axis=1)"
   ]
  },
  {
   "cell_type": "code",
   "execution_count": 18,
   "metadata": {},
   "outputs": [],
   "source": [
    "new = test['new_revenue'].sum()"
   ]
  },
  {
   "cell_type": "markdown",
   "metadata": {},
   "source": [
    "# Impact "
   ]
  },
  {
   "cell_type": "code",
   "execution_count": 22,
   "metadata": {},
   "outputs": [
    {
     "data": {
      "text/plain": [
       "3221570.702134208"
      ]
     },
     "execution_count": 22,
     "metadata": {},
     "output_type": "execute_result"
    }
   ],
   "source": [
    "(new*0.9 - old) / old "
   ]
  }
 ],
 "metadata": {
  "kernelspec": {
   "display_name": "Python 3",
   "language": "python",
   "name": "python3"
  },
  "language_info": {
   "codemirror_mode": {
    "name": "ipython",
    "version": 3
   },
   "file_extension": ".py",
   "mimetype": "text/x-python",
   "name": "python",
   "nbconvert_exporter": "python",
   "pygments_lexer": "ipython3",
   "version": "3.6.2"
  }
 },
 "nbformat": 4,
 "nbformat_minor": 2
}
