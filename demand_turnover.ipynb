{
 "cells": [
  {
   "cell_type": "markdown",
   "metadata": {},
   "source": [
    "# Reading the data"
   ]
  },
  {
   "cell_type": "code",
   "execution_count": 1,
   "metadata": {
    "collapsed": true
   },
   "outputs": [],
   "source": [
    "import pandas as pd\n",
    "import seaborn as sns\n",
    "from matplotlib import pyplot as plt"
   ]
  },
  {
   "cell_type": "code",
   "execution_count": 2,
   "metadata": {
    "collapsed": true
   },
   "outputs": [],
   "source": [
    "path = 'stored_data_case.h5'"
   ]
  },
  {
   "cell_type": "code",
   "execution_count": 3,
   "metadata": {
    "collapsed": true
   },
   "outputs": [],
   "source": [
    "def read_HDF_file(file_name, table):\n",
    "    with pd.HDFStore(file_name, complevel=9, complib='blosc') as store:\n",
    "         return store[table]"
   ]
  },
  {
   "cell_type": "code",
   "execution_count": 4,
   "metadata": {
    "collapsed": true
   },
   "outputs": [],
   "source": [
    "df = read_HDF_file(path,'/transaction_and_locations')"
   ]
  },
  {
   "cell_type": "code",
   "execution_count": 5,
   "metadata": {
    "scrolled": true
   },
   "outputs": [
    {
     "data": {
      "text/html": [
       "<div>\n",
       "<style scoped>\n",
       "    .dataframe tbody tr th:only-of-type {\n",
       "        vertical-align: middle;\n",
       "    }\n",
       "\n",
       "    .dataframe tbody tr th {\n",
       "        vertical-align: top;\n",
       "    }\n",
       "\n",
       "    .dataframe thead th {\n",
       "        text-align: right;\n",
       "    }\n",
       "</style>\n",
       "<table border=\"1\" class=\"dataframe\">\n",
       "  <thead>\n",
       "    <tr style=\"text-align: right;\">\n",
       "      <th></th>\n",
       "      <th>parkmeter_id</th>\n",
       "      <th>user_type</th>\n",
       "      <th>payment_method</th>\n",
       "      <th>amount</th>\n",
       "      <th>duration_hours</th>\n",
       "      <th>parking_start</th>\n",
       "      <th>parking_end</th>\n",
       "      <th>parkmeter_address</th>\n",
       "      <th>arrondissement</th>\n",
       "      <th>system</th>\n",
       "      <th>residential_area</th>\n",
       "      <th>hourly_rate</th>\n",
       "      <th>parkmeter_coordinates</th>\n",
       "    </tr>\n",
       "  </thead>\n",
       "  <tbody>\n",
       "    <tr>\n",
       "      <th>0</th>\n",
       "      <td>66391001</td>\n",
       "      <td>Rotatif</td>\n",
       "      <td>CB</td>\n",
       "      <td>2.4</td>\n",
       "      <td>2.00</td>\n",
       "      <td>2014-09-09 14:02:44</td>\n",
       "      <td>2014-09-09 16:02:44</td>\n",
       "      <td>121 BOULEVARD MURAT</td>\n",
       "      <td>16</td>\n",
       "      <td>MIX</td>\n",
       "      <td>16Z</td>\n",
       "      <td>2.4</td>\n",
       "      <td>48.8373519997, 2.25909199964</td>\n",
       "    </tr>\n",
       "    <tr>\n",
       "      <th>1</th>\n",
       "      <td>66391001</td>\n",
       "      <td>Rotatif</td>\n",
       "      <td>Paris Carte</td>\n",
       "      <td>0.3</td>\n",
       "      <td>0.25</td>\n",
       "      <td>2014-02-09 14:18:09</td>\n",
       "      <td>2014-02-09 14:33:09</td>\n",
       "      <td>121 BOULEVARD MURAT</td>\n",
       "      <td>16</td>\n",
       "      <td>MIX</td>\n",
       "      <td>16Z</td>\n",
       "      <td>2.4</td>\n",
       "      <td>48.8373519997, 2.25909199964</td>\n",
       "    </tr>\n",
       "    <tr>\n",
       "      <th>2084</th>\n",
       "      <td>66391001</td>\n",
       "      <td>Rotatif</td>\n",
       "      <td>CB</td>\n",
       "      <td>0.6</td>\n",
       "      <td>0.50</td>\n",
       "      <td>2014-05-09 18:55:21</td>\n",
       "      <td>2014-05-09 19:25:21</td>\n",
       "      <td>121 BOULEVARD MURAT</td>\n",
       "      <td>16</td>\n",
       "      <td>MIX</td>\n",
       "      <td>16Z</td>\n",
       "      <td>2.4</td>\n",
       "      <td>48.8373519997, 2.25909199964</td>\n",
       "    </tr>\n",
       "    <tr>\n",
       "      <th>2085</th>\n",
       "      <td>66391001</td>\n",
       "      <td>Rotatif</td>\n",
       "      <td>CB</td>\n",
       "      <td>0.9</td>\n",
       "      <td>0.75</td>\n",
       "      <td>2014-08-09 16:30:32</td>\n",
       "      <td>2014-08-09 17:15:32</td>\n",
       "      <td>121 BOULEVARD MURAT</td>\n",
       "      <td>16</td>\n",
       "      <td>MIX</td>\n",
       "      <td>16Z</td>\n",
       "      <td>2.4</td>\n",
       "      <td>48.8373519997, 2.25909199964</td>\n",
       "    </tr>\n",
       "    <tr>\n",
       "      <th>2086</th>\n",
       "      <td>66391001</td>\n",
       "      <td>Rotatif</td>\n",
       "      <td>Paris Carte</td>\n",
       "      <td>0.3</td>\n",
       "      <td>0.25</td>\n",
       "      <td>2014-01-09 18:40:25</td>\n",
       "      <td>2014-01-09 18:55:25</td>\n",
       "      <td>121 BOULEVARD MURAT</td>\n",
       "      <td>16</td>\n",
       "      <td>MIX</td>\n",
       "      <td>16Z</td>\n",
       "      <td>2.4</td>\n",
       "      <td>48.8373519997, 2.25909199964</td>\n",
       "    </tr>\n",
       "  </tbody>\n",
       "</table>\n",
       "</div>"
      ],
      "text/plain": [
       "      parkmeter_id user_type payment_method  amount  duration_hours  \\\n",
       "0         66391001   Rotatif             CB     2.4            2.00   \n",
       "1         66391001   Rotatif    Paris Carte     0.3            0.25   \n",
       "2084      66391001   Rotatif             CB     0.6            0.50   \n",
       "2085      66391001   Rotatif             CB     0.9            0.75   \n",
       "2086      66391001   Rotatif    Paris Carte     0.3            0.25   \n",
       "\n",
       "           parking_start         parking_end    parkmeter_address  \\\n",
       "0    2014-09-09 14:02:44 2014-09-09 16:02:44  121 BOULEVARD MURAT   \n",
       "1    2014-02-09 14:18:09 2014-02-09 14:33:09  121 BOULEVARD MURAT   \n",
       "2084 2014-05-09 18:55:21 2014-05-09 19:25:21  121 BOULEVARD MURAT   \n",
       "2085 2014-08-09 16:30:32 2014-08-09 17:15:32  121 BOULEVARD MURAT   \n",
       "2086 2014-01-09 18:40:25 2014-01-09 18:55:25  121 BOULEVARD MURAT   \n",
       "\n",
       "      arrondissement system residential_area  hourly_rate  \\\n",
       "0                 16    MIX              16Z          2.4   \n",
       "1                 16    MIX              16Z          2.4   \n",
       "2084              16    MIX              16Z          2.4   \n",
       "2085              16    MIX              16Z          2.4   \n",
       "2086              16    MIX              16Z          2.4   \n",
       "\n",
       "             parkmeter_coordinates  \n",
       "0     48.8373519997, 2.25909199964  \n",
       "1     48.8373519997, 2.25909199964  \n",
       "2084  48.8373519997, 2.25909199964  \n",
       "2085  48.8373519997, 2.25909199964  \n",
       "2086  48.8373519997, 2.25909199964  "
      ]
     },
     "execution_count": 5,
     "metadata": {},
     "output_type": "execute_result"
    }
   ],
   "source": [
    "df.head()"
   ]
  },
  {
   "cell_type": "markdown",
   "metadata": {},
   "source": [
    "# Demand exploration"
   ]
  },
  {
   "cell_type": "code",
   "execution_count": 6,
   "metadata": {
    "collapsed": true
   },
   "outputs": [],
   "source": [
    "df_demand = df[['parkmeter_id', 'parking_start', 'parking_end', 'residential_area']].copy()\n",
    "df_demand['year'] = [time.year for time in df_demand['parking_start']]\n",
    "df_temp = df_demand.copy()\n",
    "df_temp['start_date'] = [time.strftime(\"%Y-%m-%d\") for time in df_temp['parking_start']]\n",
    "df_temp['end_date'] = [time.strftime(\"%Y-%m-%d\") for time in df_temp['parking_end']]\n",
    "\n",
    "#df_temp.to_csv('csv/df_to_group.csv') # 2GB !! \n",
    "#df_temp = pd.read_csv('df_to_group.csv') "
   ]
  },
  {
   "cell_type": "markdown",
   "metadata": {},
   "source": [
    "## *Demand: Turnover*"
   ]
  },
  {
   "cell_type": "code",
   "execution_count": 7,
   "metadata": {},
   "outputs": [
    {
     "data": {
      "text/html": [
       "<div>\n",
       "<style scoped>\n",
       "    .dataframe tbody tr th:only-of-type {\n",
       "        vertical-align: middle;\n",
       "    }\n",
       "\n",
       "    .dataframe tbody tr th {\n",
       "        vertical-align: top;\n",
       "    }\n",
       "\n",
       "    .dataframe thead th {\n",
       "        text-align: right;\n",
       "    }\n",
       "</style>\n",
       "<table border=\"1\" class=\"dataframe\">\n",
       "  <thead>\n",
       "    <tr style=\"text-align: right;\">\n",
       "      <th></th>\n",
       "      <th>parkmeter_id</th>\n",
       "      <th>parking_start</th>\n",
       "      <th>parking_end</th>\n",
       "      <th>residential_area</th>\n",
       "      <th>year</th>\n",
       "      <th>start_date</th>\n",
       "      <th>end_date</th>\n",
       "    </tr>\n",
       "  </thead>\n",
       "  <tbody>\n",
       "    <tr>\n",
       "      <th>0</th>\n",
       "      <td>66391001</td>\n",
       "      <td>2014-09-09 14:02:44</td>\n",
       "      <td>2014-09-09 16:02:44</td>\n",
       "      <td>16Z</td>\n",
       "      <td>2014</td>\n",
       "      <td>2014-09-09</td>\n",
       "      <td>2014-09-09</td>\n",
       "    </tr>\n",
       "    <tr>\n",
       "      <th>1</th>\n",
       "      <td>66391001</td>\n",
       "      <td>2014-02-09 14:18:09</td>\n",
       "      <td>2014-02-09 14:33:09</td>\n",
       "      <td>16Z</td>\n",
       "      <td>2014</td>\n",
       "      <td>2014-02-09</td>\n",
       "      <td>2014-02-09</td>\n",
       "    </tr>\n",
       "    <tr>\n",
       "      <th>2084</th>\n",
       "      <td>66391001</td>\n",
       "      <td>2014-05-09 18:55:21</td>\n",
       "      <td>2014-05-09 19:25:21</td>\n",
       "      <td>16Z</td>\n",
       "      <td>2014</td>\n",
       "      <td>2014-05-09</td>\n",
       "      <td>2014-05-09</td>\n",
       "    </tr>\n",
       "    <tr>\n",
       "      <th>2085</th>\n",
       "      <td>66391001</td>\n",
       "      <td>2014-08-09 16:30:32</td>\n",
       "      <td>2014-08-09 17:15:32</td>\n",
       "      <td>16Z</td>\n",
       "      <td>2014</td>\n",
       "      <td>2014-08-09</td>\n",
       "      <td>2014-08-09</td>\n",
       "    </tr>\n",
       "    <tr>\n",
       "      <th>2086</th>\n",
       "      <td>66391001</td>\n",
       "      <td>2014-01-09 18:40:25</td>\n",
       "      <td>2014-01-09 18:55:25</td>\n",
       "      <td>16Z</td>\n",
       "      <td>2014</td>\n",
       "      <td>2014-01-09</td>\n",
       "      <td>2014-01-09</td>\n",
       "    </tr>\n",
       "  </tbody>\n",
       "</table>\n",
       "</div>"
      ],
      "text/plain": [
       "      parkmeter_id       parking_start         parking_end residential_area  \\\n",
       "0         66391001 2014-09-09 14:02:44 2014-09-09 16:02:44              16Z   \n",
       "1         66391001 2014-02-09 14:18:09 2014-02-09 14:33:09              16Z   \n",
       "2084      66391001 2014-05-09 18:55:21 2014-05-09 19:25:21              16Z   \n",
       "2085      66391001 2014-08-09 16:30:32 2014-08-09 17:15:32              16Z   \n",
       "2086      66391001 2014-01-09 18:40:25 2014-01-09 18:55:25              16Z   \n",
       "\n",
       "      year  start_date    end_date  \n",
       "0     2014  2014-09-09  2014-09-09  \n",
       "1     2014  2014-02-09  2014-02-09  \n",
       "2084  2014  2014-05-09  2014-05-09  \n",
       "2085  2014  2014-08-09  2014-08-09  \n",
       "2086  2014  2014-01-09  2014-01-09  "
      ]
     },
     "execution_count": 7,
     "metadata": {},
     "output_type": "execute_result"
    }
   ],
   "source": [
    "df_temp.head()"
   ]
  },
  {
   "cell_type": "code",
   "execution_count": 13,
   "metadata": {},
   "outputs": [
    {
     "data": {
      "text/html": [
       "<div>\n",
       "<style scoped>\n",
       "    .dataframe tbody tr th:only-of-type {\n",
       "        vertical-align: middle;\n",
       "    }\n",
       "\n",
       "    .dataframe tbody tr th {\n",
       "        vertical-align: top;\n",
       "    }\n",
       "\n",
       "    .dataframe thead th {\n",
       "        text-align: right;\n",
       "    }\n",
       "</style>\n",
       "<table border=\"1\" class=\"dataframe\">\n",
       "  <thead>\n",
       "    <tr style=\"text-align: right;\">\n",
       "      <th></th>\n",
       "      <th>residential_area</th>\n",
       "      <th>parking_start</th>\n",
       "    </tr>\n",
       "  </thead>\n",
       "  <tbody>\n",
       "    <tr>\n",
       "      <th>0</th>\n",
       "      <td>10E</td>\n",
       "      <td>578.023403</td>\n",
       "    </tr>\n",
       "    <tr>\n",
       "      <th>1</th>\n",
       "      <td>10F</td>\n",
       "      <td>543.834036</td>\n",
       "    </tr>\n",
       "    <tr>\n",
       "      <th>2</th>\n",
       "      <td>10G</td>\n",
       "      <td>646.885189</td>\n",
       "    </tr>\n",
       "    <tr>\n",
       "      <th>3</th>\n",
       "      <td>11E</td>\n",
       "      <td>461.654060</td>\n",
       "    </tr>\n",
       "    <tr>\n",
       "      <th>4</th>\n",
       "      <td>11F</td>\n",
       "      <td>479.944423</td>\n",
       "    </tr>\n",
       "  </tbody>\n",
       "</table>\n",
       "</div>"
      ],
      "text/plain": [
       "  residential_area  parking_start\n",
       "0              10E     578.023403\n",
       "1              10F     543.834036\n",
       "2              10G     646.885189\n",
       "3              11E     461.654060\n",
       "4              11F     479.944423"
      ]
     },
     "execution_count": 13,
     "metadata": {},
     "output_type": "execute_result"
    }
   ],
   "source": [
    "# start on any day\n",
    "df_start = df_temp.groupby(['residential_area','parkmeter_id','start_date'], as_index = False)['parking_start'].count()\n",
    "df_start = df_start.groupby(['residential_area','parkmeter_id'], as_index = False)['parking_start'].mean()\n",
    "df_start = df_start.groupby('residential_area', as_index = False)['parking_start'].sum()\n",
    "df_start.head()"
   ]
  },
  {
   "cell_type": "code",
   "execution_count": 12,
   "metadata": {},
   "outputs": [
    {
     "data": {
      "text/html": [
       "<div>\n",
       "<style scoped>\n",
       "    .dataframe tbody tr th:only-of-type {\n",
       "        vertical-align: middle;\n",
       "    }\n",
       "\n",
       "    .dataframe tbody tr th {\n",
       "        vertical-align: top;\n",
       "    }\n",
       "\n",
       "    .dataframe thead th {\n",
       "        text-align: right;\n",
       "    }\n",
       "</style>\n",
       "<table border=\"1\" class=\"dataframe\">\n",
       "  <thead>\n",
       "    <tr style=\"text-align: right;\">\n",
       "      <th></th>\n",
       "      <th>residential_area</th>\n",
       "      <th>parking_end</th>\n",
       "    </tr>\n",
       "  </thead>\n",
       "  <tbody>\n",
       "    <tr>\n",
       "      <th>0</th>\n",
       "      <td>10E</td>\n",
       "      <td>766.181709</td>\n",
       "    </tr>\n",
       "    <tr>\n",
       "      <th>1</th>\n",
       "      <td>10F</td>\n",
       "      <td>696.147802</td>\n",
       "    </tr>\n",
       "    <tr>\n",
       "      <th>2</th>\n",
       "      <td>10G</td>\n",
       "      <td>826.836499</td>\n",
       "    </tr>\n",
       "    <tr>\n",
       "      <th>3</th>\n",
       "      <td>11E</td>\n",
       "      <td>579.774999</td>\n",
       "    </tr>\n",
       "    <tr>\n",
       "      <th>4</th>\n",
       "      <td>11F</td>\n",
       "      <td>622.680651</td>\n",
       "    </tr>\n",
       "  </tbody>\n",
       "</table>\n",
       "</div>"
      ],
      "text/plain": [
       "  residential_area  parking_end\n",
       "0              10E   766.181709\n",
       "1              10F   696.147802\n",
       "2              10G   826.836499\n",
       "3              11E   579.774999\n",
       "4              11F   622.680651"
      ]
     },
     "execution_count": 12,
     "metadata": {},
     "output_type": "execute_result"
    }
   ],
   "source": [
    "# end on any day\n",
    "df_end = df_temp.groupby(['residential_area','parkmeter_id','end_date'], as_index = False)['parking_end'].count()\n",
    "df_end = df_end.groupby(['residential_area','parkmeter_id'], as_index = False)['parking_end'].mean()\n",
    "df_end = df_end.groupby('residential_area', as_index = False)['parking_end'].sum()\n",
    "df_end.head()"
   ]
  },
  {
   "cell_type": "code",
   "execution_count": 15,
   "metadata": {},
   "outputs": [
    {
     "data": {
      "text/html": [
       "<div>\n",
       "<style scoped>\n",
       "    .dataframe tbody tr th:only-of-type {\n",
       "        vertical-align: middle;\n",
       "    }\n",
       "\n",
       "    .dataframe tbody tr th {\n",
       "        vertical-align: top;\n",
       "    }\n",
       "\n",
       "    .dataframe thead th {\n",
       "        text-align: right;\n",
       "    }\n",
       "</style>\n",
       "<table border=\"1\" class=\"dataframe\">\n",
       "  <thead>\n",
       "    <tr style=\"text-align: right;\">\n",
       "      <th></th>\n",
       "      <th>residential_area</th>\n",
       "      <th>parking_start</th>\n",
       "      <th>parking_end</th>\n",
       "    </tr>\n",
       "  </thead>\n",
       "  <tbody>\n",
       "    <tr>\n",
       "      <th>0</th>\n",
       "      <td>10E</td>\n",
       "      <td>578.023403</td>\n",
       "      <td>766.181709</td>\n",
       "    </tr>\n",
       "    <tr>\n",
       "      <th>1</th>\n",
       "      <td>10F</td>\n",
       "      <td>543.834036</td>\n",
       "      <td>696.147802</td>\n",
       "    </tr>\n",
       "    <tr>\n",
       "      <th>2</th>\n",
       "      <td>10G</td>\n",
       "      <td>646.885189</td>\n",
       "      <td>826.836499</td>\n",
       "    </tr>\n",
       "    <tr>\n",
       "      <th>3</th>\n",
       "      <td>11E</td>\n",
       "      <td>461.654060</td>\n",
       "      <td>579.774999</td>\n",
       "    </tr>\n",
       "    <tr>\n",
       "      <th>4</th>\n",
       "      <td>11F</td>\n",
       "      <td>479.944423</td>\n",
       "      <td>622.680651</td>\n",
       "    </tr>\n",
       "  </tbody>\n",
       "</table>\n",
       "</div>"
      ],
      "text/plain": [
       "  residential_area  parking_start  parking_end\n",
       "0              10E     578.023403   766.181709\n",
       "1              10F     543.834036   696.147802\n",
       "2              10G     646.885189   826.836499\n",
       "3              11E     461.654060   579.774999\n",
       "4              11F     479.944423   622.680651"
      ]
     },
     "execution_count": 15,
     "metadata": {},
     "output_type": "execute_result"
    }
   ],
   "source": [
    "# turnover of the average \n",
    "# computing the average turnover takes too much space \n",
    "df = df_start.merge(df_end, on = ['residential_area'])\n",
    "df['turnover'] = df['parking_end'] - df['parking_start']\n",
    "df.head()"
   ]
  },
  {
   "cell_type": "code",
   "execution_count": 17,
   "metadata": {},
   "outputs": [
    {
     "name": "stderr",
     "output_type": "stream",
     "text": [
      "/Users/louislimnavong/anaconda3/lib/python3.6/site-packages/matplotlib/axes/_axes.py:6499: MatplotlibDeprecationWarning: \n",
      "The 'normed' kwarg was deprecated in Matplotlib 2.1 and will be removed in 3.1. Use 'density' instead.\n",
      "  alternative=\"'density'\", removal=\"3.1\")\n"
     ]
    },
    {
     "data": {
      "image/png": "[encoded data removed]",
      "text/plain": [
       "<Figure size 432x288 with 1 Axes>"
      ]
     },
     "metadata": {},
     "output_type": "display_data"
    }
   ],
   "source": [
    "x = df['turnover']\n",
    "sns.distplot(x)\n",
    "plt.show()"
   ]
  },
  {
   "cell_type": "code",
   "execution_count": 18,
   "metadata": {
    "collapsed": true
   },
   "outputs": [],
   "source": [
    "df.to_excel('tables/df_turnover.xlsx')"
   ]
  },
  {
   "cell_type": "code",
   "execution_count": 19,
   "metadata": {
    "collapsed": true
   },
   "outputs": [],
   "source": [
    "df.to_csv('csv/df_turnover.csv')"
   ]
  }
 ],
 "metadata": {
  "kernelspec": {
   "display_name": "Python 3",
   "language": "python",
   "name": "python3"
  },
  "language_info": {
   "codemirror_mode": {
    "name": "ipython",
    "version": 3
   },
   "file_extension": ".py",
   "mimetype": "text/x-python",
   "name": "python",
   "nbconvert_exporter": "python",
   "pygments_lexer": "ipython3",
   "version": "3.6.2"
  }
 },
 "nbformat": 4,
 "nbformat_minor": 2
}
