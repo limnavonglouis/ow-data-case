{
 "cells": [
  {
   "cell_type": "code",
   "execution_count": 1,
   "metadata": {
    "collapsed": true
   },
   "outputs": [],
   "source": [
    "import pandas as pd\n",
    "import seaborn as sns\n",
    "from matplotlib import pyplot as plt"
   ]
  },
  {
   "cell_type": "code",
   "execution_count": 2,
   "metadata": {
    "collapsed": true
   },
   "outputs": [],
   "source": [
    "## need to do sanity checks\n",
    "## does the amount equal duration hours time price "
   ]
  },
  {
   "cell_type": "markdown",
   "metadata": {},
   "source": [
    "# Reading the data"
   ]
  },
  {
   "cell_type": "code",
   "execution_count": 3,
   "metadata": {
    "collapsed": true
   },
   "outputs": [],
   "source": [
    "path = 'stored_data_case.h5'"
   ]
  },
  {
   "cell_type": "code",
   "execution_count": 4,
   "metadata": {
    "collapsed": true
   },
   "outputs": [],
   "source": [
    "def read_HDF_file(file_name, table):\n",
    "    with pd.HDFStore(file_name, complevel=9, complib='blosc') as store:\n",
    "         return store[table]"
   ]
  },
  {
   "cell_type": "code",
   "execution_count": 5,
   "metadata": {},
   "outputs": [
    {
     "data": {
      "text/html": [
       "<div>\n",
       "<style scoped>\n",
       "    .dataframe tbody tr th:only-of-type {\n",
       "        vertical-align: middle;\n",
       "    }\n",
       "\n",
       "    .dataframe tbody tr th {\n",
       "        vertical-align: top;\n",
       "    }\n",
       "\n",
       "    .dataframe thead th {\n",
       "        text-align: right;\n",
       "    }\n",
       "</style>\n",
       "<table border=\"1\" class=\"dataframe\">\n",
       "  <thead>\n",
       "    <tr style=\"text-align: right;\">\n",
       "      <th></th>\n",
       "      <th>parkmeter_id</th>\n",
       "      <th>user_type</th>\n",
       "      <th>payment_method</th>\n",
       "      <th>amount</th>\n",
       "      <th>duration_hours</th>\n",
       "      <th>parking_start</th>\n",
       "      <th>parking_end</th>\n",
       "      <th>parkmeter_address</th>\n",
       "      <th>arrondissement</th>\n",
       "      <th>system</th>\n",
       "      <th>residential_area</th>\n",
       "      <th>hourly_rate</th>\n",
       "      <th>parkmeter_coordinates</th>\n",
       "    </tr>\n",
       "  </thead>\n",
       "  <tbody>\n",
       "    <tr>\n",
       "      <th>0</th>\n",
       "      <td>66391001</td>\n",
       "      <td>Rotatif</td>\n",
       "      <td>CB</td>\n",
       "      <td>2.4</td>\n",
       "      <td>2.00</td>\n",
       "      <td>2014-09-09 14:02:44</td>\n",
       "      <td>2014-09-09 16:02:44</td>\n",
       "      <td>121 BOULEVARD MURAT</td>\n",
       "      <td>16</td>\n",
       "      <td>MIX</td>\n",
       "      <td>16Z</td>\n",
       "      <td>2.4</td>\n",
       "      <td>48.8373519997, 2.25909199964</td>\n",
       "    </tr>\n",
       "    <tr>\n",
       "      <th>1</th>\n",
       "      <td>66391001</td>\n",
       "      <td>Rotatif</td>\n",
       "      <td>Paris Carte</td>\n",
       "      <td>0.3</td>\n",
       "      <td>0.25</td>\n",
       "      <td>2014-02-09 14:18:09</td>\n",
       "      <td>2014-02-09 14:33:09</td>\n",
       "      <td>121 BOULEVARD MURAT</td>\n",
       "      <td>16</td>\n",
       "      <td>MIX</td>\n",
       "      <td>16Z</td>\n",
       "      <td>2.4</td>\n",
       "      <td>48.8373519997, 2.25909199964</td>\n",
       "    </tr>\n",
       "    <tr>\n",
       "      <th>2084</th>\n",
       "      <td>66391001</td>\n",
       "      <td>Rotatif</td>\n",
       "      <td>CB</td>\n",
       "      <td>0.6</td>\n",
       "      <td>0.50</td>\n",
       "      <td>2014-05-09 18:55:21</td>\n",
       "      <td>2014-05-09 19:25:21</td>\n",
       "      <td>121 BOULEVARD MURAT</td>\n",
       "      <td>16</td>\n",
       "      <td>MIX</td>\n",
       "      <td>16Z</td>\n",
       "      <td>2.4</td>\n",
       "      <td>48.8373519997, 2.25909199964</td>\n",
       "    </tr>\n",
       "    <tr>\n",
       "      <th>2085</th>\n",
       "      <td>66391001</td>\n",
       "      <td>Rotatif</td>\n",
       "      <td>CB</td>\n",
       "      <td>0.9</td>\n",
       "      <td>0.75</td>\n",
       "      <td>2014-08-09 16:30:32</td>\n",
       "      <td>2014-08-09 17:15:32</td>\n",
       "      <td>121 BOULEVARD MURAT</td>\n",
       "      <td>16</td>\n",
       "      <td>MIX</td>\n",
       "      <td>16Z</td>\n",
       "      <td>2.4</td>\n",
       "      <td>48.8373519997, 2.25909199964</td>\n",
       "    </tr>\n",
       "    <tr>\n",
       "      <th>2086</th>\n",
       "      <td>66391001</td>\n",
       "      <td>Rotatif</td>\n",
       "      <td>Paris Carte</td>\n",
       "      <td>0.3</td>\n",
       "      <td>0.25</td>\n",
       "      <td>2014-01-09 18:40:25</td>\n",
       "      <td>2014-01-09 18:55:25</td>\n",
       "      <td>121 BOULEVARD MURAT</td>\n",
       "      <td>16</td>\n",
       "      <td>MIX</td>\n",
       "      <td>16Z</td>\n",
       "      <td>2.4</td>\n",
       "      <td>48.8373519997, 2.25909199964</td>\n",
       "    </tr>\n",
       "  </tbody>\n",
       "</table>\n",
       "</div>"
      ],
      "text/plain": [
       "      parkmeter_id user_type payment_method  amount  duration_hours  \\\n",
       "0         66391001   Rotatif             CB     2.4            2.00   \n",
       "1         66391001   Rotatif    Paris Carte     0.3            0.25   \n",
       "2084      66391001   Rotatif             CB     0.6            0.50   \n",
       "2085      66391001   Rotatif             CB     0.9            0.75   \n",
       "2086      66391001   Rotatif    Paris Carte     0.3            0.25   \n",
       "\n",
       "           parking_start         parking_end    parkmeter_address  \\\n",
       "0    2014-09-09 14:02:44 2014-09-09 16:02:44  121 BOULEVARD MURAT   \n",
       "1    2014-02-09 14:18:09 2014-02-09 14:33:09  121 BOULEVARD MURAT   \n",
       "2084 2014-05-09 18:55:21 2014-05-09 19:25:21  121 BOULEVARD MURAT   \n",
       "2085 2014-08-09 16:30:32 2014-08-09 17:15:32  121 BOULEVARD MURAT   \n",
       "2086 2014-01-09 18:40:25 2014-01-09 18:55:25  121 BOULEVARD MURAT   \n",
       "\n",
       "      arrondissement system residential_area  hourly_rate  \\\n",
       "0                 16    MIX              16Z          2.4   \n",
       "1                 16    MIX              16Z          2.4   \n",
       "2084              16    MIX              16Z          2.4   \n",
       "2085              16    MIX              16Z          2.4   \n",
       "2086              16    MIX              16Z          2.4   \n",
       "\n",
       "             parkmeter_coordinates  \n",
       "0     48.8373519997, 2.25909199964  \n",
       "1     48.8373519997, 2.25909199964  \n",
       "2084  48.8373519997, 2.25909199964  \n",
       "2085  48.8373519997, 2.25909199964  \n",
       "2086  48.8373519997, 2.25909199964  "
      ]
     },
     "execution_count": 5,
     "metadata": {},
     "output_type": "execute_result"
    }
   ],
   "source": [
    "df = read_HDF_file(path,'/transaction_and_locations')\n",
    "df.head()"
   ]
  },
  {
   "cell_type": "markdown",
   "metadata": {},
   "source": [
    "## Sub Sample to experiment"
   ]
  },
  {
   "cell_type": "code",
   "execution_count": 7,
   "metadata": {},
   "outputs": [],
   "source": [
    "df_test = df[['parkmeter_id', 'user_type', 'payment_method', 'duration_hours', \n",
    "                            'amount', 'parking_start', 'parking_end', 'residential_area', 'hourly_rate']].copy()\n",
    "df_test['year'] = [time.year for time in df_test['parking_start']]"
   ]
  },
  {
   "cell_type": "code",
   "execution_count": 8,
   "metadata": {},
   "outputs": [
    {
     "data": {
      "text/html": [
       "<div>\n",
       "<style scoped>\n",
       "    .dataframe tbody tr th:only-of-type {\n",
       "        vertical-align: middle;\n",
       "    }\n",
       "\n",
       "    .dataframe tbody tr th {\n",
       "        vertical-align: top;\n",
       "    }\n",
       "\n",
       "    .dataframe thead th {\n",
       "        text-align: right;\n",
       "    }\n",
       "</style>\n",
       "<table border=\"1\" class=\"dataframe\">\n",
       "  <thead>\n",
       "    <tr style=\"text-align: right;\">\n",
       "      <th></th>\n",
       "      <th>parkmeter_id</th>\n",
       "      <th>user_type</th>\n",
       "      <th>payment_method</th>\n",
       "      <th>duration_hours</th>\n",
       "      <th>amount</th>\n",
       "      <th>parking_start</th>\n",
       "      <th>parking_end</th>\n",
       "      <th>residential_area</th>\n",
       "      <th>hourly_rate</th>\n",
       "      <th>year</th>\n",
       "    </tr>\n",
       "  </thead>\n",
       "  <tbody>\n",
       "    <tr>\n",
       "      <th>0</th>\n",
       "      <td>66391001</td>\n",
       "      <td>Rotatif</td>\n",
       "      <td>CB</td>\n",
       "      <td>2.00</td>\n",
       "      <td>2.4</td>\n",
       "      <td>2014-09-09 14:02:44</td>\n",
       "      <td>2014-09-09 16:02:44</td>\n",
       "      <td>16Z</td>\n",
       "      <td>2.4</td>\n",
       "      <td>2014</td>\n",
       "    </tr>\n",
       "    <tr>\n",
       "      <th>1</th>\n",
       "      <td>66391001</td>\n",
       "      <td>Rotatif</td>\n",
       "      <td>Paris Carte</td>\n",
       "      <td>0.25</td>\n",
       "      <td>0.3</td>\n",
       "      <td>2014-02-09 14:18:09</td>\n",
       "      <td>2014-02-09 14:33:09</td>\n",
       "      <td>16Z</td>\n",
       "      <td>2.4</td>\n",
       "      <td>2014</td>\n",
       "    </tr>\n",
       "    <tr>\n",
       "      <th>2084</th>\n",
       "      <td>66391001</td>\n",
       "      <td>Rotatif</td>\n",
       "      <td>CB</td>\n",
       "      <td>0.50</td>\n",
       "      <td>0.6</td>\n",
       "      <td>2014-05-09 18:55:21</td>\n",
       "      <td>2014-05-09 19:25:21</td>\n",
       "      <td>16Z</td>\n",
       "      <td>2.4</td>\n",
       "      <td>2014</td>\n",
       "    </tr>\n",
       "    <tr>\n",
       "      <th>2085</th>\n",
       "      <td>66391001</td>\n",
       "      <td>Rotatif</td>\n",
       "      <td>CB</td>\n",
       "      <td>0.75</td>\n",
       "      <td>0.9</td>\n",
       "      <td>2014-08-09 16:30:32</td>\n",
       "      <td>2014-08-09 17:15:32</td>\n",
       "      <td>16Z</td>\n",
       "      <td>2.4</td>\n",
       "      <td>2014</td>\n",
       "    </tr>\n",
       "    <tr>\n",
       "      <th>2086</th>\n",
       "      <td>66391001</td>\n",
       "      <td>Rotatif</td>\n",
       "      <td>Paris Carte</td>\n",
       "      <td>0.25</td>\n",
       "      <td>0.3</td>\n",
       "      <td>2014-01-09 18:40:25</td>\n",
       "      <td>2014-01-09 18:55:25</td>\n",
       "      <td>16Z</td>\n",
       "      <td>2.4</td>\n",
       "      <td>2014</td>\n",
       "    </tr>\n",
       "  </tbody>\n",
       "</table>\n",
       "</div>"
      ],
      "text/plain": [
       "      parkmeter_id user_type payment_method  duration_hours  amount  \\\n",
       "0         66391001   Rotatif             CB            2.00     2.4   \n",
       "1         66391001   Rotatif    Paris Carte            0.25     0.3   \n",
       "2084      66391001   Rotatif             CB            0.50     0.6   \n",
       "2085      66391001   Rotatif             CB            0.75     0.9   \n",
       "2086      66391001   Rotatif    Paris Carte            0.25     0.3   \n",
       "\n",
       "           parking_start         parking_end residential_area  hourly_rate  \\\n",
       "0    2014-09-09 14:02:44 2014-09-09 16:02:44              16Z          2.4   \n",
       "1    2014-02-09 14:18:09 2014-02-09 14:33:09              16Z          2.4   \n",
       "2084 2014-05-09 18:55:21 2014-05-09 19:25:21              16Z          2.4   \n",
       "2085 2014-08-09 16:30:32 2014-08-09 17:15:32              16Z          2.4   \n",
       "2086 2014-01-09 18:40:25 2014-01-09 18:55:25              16Z          2.4   \n",
       "\n",
       "      year  \n",
       "0     2014  \n",
       "1     2014  \n",
       "2084  2014  \n",
       "2085  2014  \n",
       "2086  2014  "
      ]
     },
     "execution_count": 8,
     "metadata": {},
     "output_type": "execute_result"
    }
   ],
   "source": [
    "#df_test.to_csv('csv/df_test.csv') # 2GB \n",
    "#df_test = pd.read_csv('csv/df_test.csv')\n",
    "df_test.head()"
   ]
  },
  {
   "cell_type": "markdown",
   "metadata": {},
   "source": [
    "# Create features"
   ]
  },
  {
   "cell_type": "markdown",
   "metadata": {},
   "source": [
    "## *Parkmeter count by zone*"
   ]
  },
  {
   "cell_type": "code",
   "execution_count": 9,
   "metadata": {},
   "outputs": [
    {
     "name": "stdout",
     "output_type": "stream",
     "text": [
      "(160, 2)\n"
     ]
    },
    {
     "data": {
      "text/html": [
       "<div>\n",
       "<style scoped>\n",
       "    .dataframe tbody tr th:only-of-type {\n",
       "        vertical-align: middle;\n",
       "    }\n",
       "\n",
       "    .dataframe tbody tr th {\n",
       "        vertical-align: top;\n",
       "    }\n",
       "\n",
       "    .dataframe thead th {\n",
       "        text-align: right;\n",
       "    }\n",
       "</style>\n",
       "<table border=\"1\" class=\"dataframe\">\n",
       "  <thead>\n",
       "    <tr style=\"text-align: right;\">\n",
       "      <th></th>\n",
       "      <th>residential_area</th>\n",
       "      <th>parkmeter_id</th>\n",
       "    </tr>\n",
       "  </thead>\n",
       "  <tbody>\n",
       "    <tr>\n",
       "      <th>0</th>\n",
       "      <td>10E</td>\n",
       "      <td>61</td>\n",
       "    </tr>\n",
       "    <tr>\n",
       "      <th>1</th>\n",
       "      <td>10F</td>\n",
       "      <td>67</td>\n",
       "    </tr>\n",
       "    <tr>\n",
       "      <th>2</th>\n",
       "      <td>10G</td>\n",
       "      <td>69</td>\n",
       "    </tr>\n",
       "    <tr>\n",
       "      <th>3</th>\n",
       "      <td>11E</td>\n",
       "      <td>64</td>\n",
       "    </tr>\n",
       "    <tr>\n",
       "      <th>4</th>\n",
       "      <td>11F</td>\n",
       "      <td>56</td>\n",
       "    </tr>\n",
       "  </tbody>\n",
       "</table>\n",
       "</div>"
      ],
      "text/plain": [
       "  residential_area  parkmeter_id\n",
       "0              10E            61\n",
       "1              10F            67\n",
       "2              10G            69\n",
       "3              11E            64\n",
       "4              11F            56"
      ]
     },
     "execution_count": 9,
     "metadata": {},
     "output_type": "execute_result"
    }
   ],
   "source": [
    "count_zone = df_test[['parkmeter_id', 'residential_area']].copy()\n",
    "count_zone = count_zone.drop_duplicates()\n",
    "count_zone = count_zone.groupby('residential_area').count().reset_index()\n",
    "print(count_zone.shape)\n",
    "count_zone.head()"
   ]
  },
  {
   "cell_type": "code",
   "execution_count": 10,
   "metadata": {},
   "outputs": [
    {
     "name": "stderr",
     "output_type": "stream",
     "text": [
      "/Users/louislimnavong/anaconda3/lib/python3.6/site-packages/matplotlib/axes/_axes.py:6499: MatplotlibDeprecationWarning: \n",
      "The 'normed' kwarg was deprecated in Matplotlib 2.1 and will be removed in 3.1. Use 'density' instead.\n",
      "  alternative=\"'density'\", removal=\"3.1\")\n"
     ]
    },
    {
     "data": {
      "image/png": "[encoded data removed]",
      "text/plain": [
       "<Figure size 432x288 with 1 Axes>"
      ]
     },
     "metadata": {},
     "output_type": "display_data"
    }
   ],
   "source": [
    "x = count_zone['parkmeter_id']\n",
    "sns.distplot(x)\n",
    "plt.show()"
   ]
  },
  {
   "cell_type": "markdown",
   "metadata": {},
   "source": [
    "## *Average duration hours by zone*"
   ]
  },
  {
   "cell_type": "code",
   "execution_count": 11,
   "metadata": {},
   "outputs": [
    {
     "data": {
      "text/html": [
       "<div>\n",
       "<style scoped>\n",
       "    .dataframe tbody tr th:only-of-type {\n",
       "        vertical-align: middle;\n",
       "    }\n",
       "\n",
       "    .dataframe tbody tr th {\n",
       "        vertical-align: top;\n",
       "    }\n",
       "\n",
       "    .dataframe thead th {\n",
       "        text-align: right;\n",
       "    }\n",
       "</style>\n",
       "<table border=\"1\" class=\"dataframe\">\n",
       "  <thead>\n",
       "    <tr style=\"text-align: right;\">\n",
       "      <th></th>\n",
       "      <th>residential_area</th>\n",
       "      <th>duration_hours</th>\n",
       "    </tr>\n",
       "  </thead>\n",
       "  <tbody>\n",
       "    <tr>\n",
       "      <th>0</th>\n",
       "      <td>10E</td>\n",
       "      <td>9.471723</td>\n",
       "    </tr>\n",
       "    <tr>\n",
       "      <th>1</th>\n",
       "      <td>10F</td>\n",
       "      <td>8.135806</td>\n",
       "    </tr>\n",
       "    <tr>\n",
       "      <th>2</th>\n",
       "      <td>10G</td>\n",
       "      <td>7.406850</td>\n",
       "    </tr>\n",
       "    <tr>\n",
       "      <th>3</th>\n",
       "      <td>11E</td>\n",
       "      <td>9.175851</td>\n",
       "    </tr>\n",
       "    <tr>\n",
       "      <th>4</th>\n",
       "      <td>11F</td>\n",
       "      <td>10.968004</td>\n",
       "    </tr>\n",
       "  </tbody>\n",
       "</table>\n",
       "</div>"
      ],
      "text/plain": [
       "  residential_area  duration_hours\n",
       "0              10E        9.471723\n",
       "1              10F        8.135806\n",
       "2              10G        7.406850\n",
       "3              11E        9.175851\n",
       "4              11F       10.968004"
      ]
     },
     "execution_count": 11,
     "metadata": {},
     "output_type": "execute_result"
    }
   ],
   "source": [
    "average_duration = df_test.groupby(['parkmeter_id','residential_area'])['duration_hours'].mean().reset_index()\n",
    "average_duration = average_duration.groupby('residential_area')['duration_hours'].mean().reset_index()\n",
    "average_duration.head()"
   ]
  },
  {
   "cell_type": "code",
   "execution_count": 14,
   "metadata": {},
   "outputs": [
    {
     "name": "stderr",
     "output_type": "stream",
     "text": [
      "/Users/louislimnavong/anaconda3/lib/python3.6/site-packages/matplotlib/axes/_axes.py:6499: MatplotlibDeprecationWarning: \n",
      "The 'normed' kwarg was deprecated in Matplotlib 2.1 and will be removed in 3.1. Use 'density' instead.\n",
      "  alternative=\"'density'\", removal=\"3.1\")\n"
     ]
    },
    {
     "data": {
      "image/png": "[encoded data removed]",
      "text/plain": [
       "<Figure size 432x288 with 1 Axes>"
      ]
     },
     "metadata": {},
     "output_type": "display_data"
    }
   ],
   "source": [
    "x = average_duration['duration_hours']\n",
    "sns.distplot(x)\n",
    "plt.show()"
   ]
  },
  {
   "cell_type": "markdown",
   "metadata": {},
   "source": [
    "## *Proportion by zones*"
   ]
  },
  {
   "cell_type": "code",
   "execution_count": null,
   "metadata": {
    "collapsed": true
   },
   "outputs": [],
   "source": [
    "## do we have to group by days ?? "
   ]
  },
  {
   "cell_type": "markdown",
   "metadata": {},
   "source": [
    "### User type "
   ]
  },
  {
   "cell_type": "code",
   "execution_count": 13,
   "metadata": {
    "scrolled": true
   },
   "outputs": [],
   "source": [
    "user = df_test.groupby(['parkmeter_id', 'residential_area','user_type'])['payment_method'].count().reset_index()"
   ]
  },
  {
   "cell_type": "code",
   "execution_count": 15,
   "metadata": {
    "collapsed": true
   },
   "outputs": [],
   "source": [
    "user_rot = user[user['user_type'] == 'Rotatif']\n",
    "user_rot = user_rot.rename(index=str, columns={\"payment_method\": \"Rotatif\"})\n",
    "del user_rot['user_type']\n",
    "\n",
    "user_res = user[user['user_type'] == 'Résident']\n",
    "user_res = user_res.rename(index=str, columns={\"payment_method\": \"Résident\"})\n",
    "del user_res['user_type']"
   ]
  },
  {
   "cell_type": "code",
   "execution_count": 16,
   "metadata": {
    "scrolled": true
   },
   "outputs": [
    {
     "data": {
      "text/html": [
       "<div>\n",
       "<style scoped>\n",
       "    .dataframe tbody tr th:only-of-type {\n",
       "        vertical-align: middle;\n",
       "    }\n",
       "\n",
       "    .dataframe tbody tr th {\n",
       "        vertical-align: top;\n",
       "    }\n",
       "\n",
       "    .dataframe thead th {\n",
       "        text-align: right;\n",
       "    }\n",
       "</style>\n",
       "<table border=\"1\" class=\"dataframe\">\n",
       "  <thead>\n",
       "    <tr style=\"text-align: right;\">\n",
       "      <th></th>\n",
       "      <th>parkmeter_id</th>\n",
       "      <th>residential_area</th>\n",
       "      <th>Résident</th>\n",
       "      <th>Rotatif</th>\n",
       "    </tr>\n",
       "  </thead>\n",
       "  <tbody>\n",
       "    <tr>\n",
       "      <th>0</th>\n",
       "      <td>20301</td>\n",
       "      <td>6E</td>\n",
       "      <td>601</td>\n",
       "      <td>2373</td>\n",
       "    </tr>\n",
       "    <tr>\n",
       "      <th>1</th>\n",
       "      <td>40102</td>\n",
       "      <td>14K</td>\n",
       "      <td>754</td>\n",
       "      <td>2003</td>\n",
       "    </tr>\n",
       "    <tr>\n",
       "      <th>2</th>\n",
       "      <td>40202</td>\n",
       "      <td>14K</td>\n",
       "      <td>600</td>\n",
       "      <td>1264</td>\n",
       "    </tr>\n",
       "    <tr>\n",
       "      <th>3</th>\n",
       "      <td>40401</td>\n",
       "      <td>14K</td>\n",
       "      <td>1097</td>\n",
       "      <td>2188</td>\n",
       "    </tr>\n",
       "    <tr>\n",
       "      <th>4</th>\n",
       "      <td>40405</td>\n",
       "      <td>14K</td>\n",
       "      <td>1747</td>\n",
       "      <td>6566</td>\n",
       "    </tr>\n",
       "  </tbody>\n",
       "</table>\n",
       "</div>"
      ],
      "text/plain": [
       "   parkmeter_id residential_area  Résident  Rotatif\n",
       "0         20301               6E       601     2373\n",
       "1         40102              14K       754     2003\n",
       "2         40202              14K       600     1264\n",
       "3         40401              14K      1097     2188\n",
       "4         40405              14K      1747     6566"
      ]
     },
     "execution_count": 16,
     "metadata": {},
     "output_type": "execute_result"
    }
   ],
   "source": [
    "user_prop = user_res.merge(user_rot, on = ['parkmeter_id', 'residential_area'])\n",
    "user_prop.head()"
   ]
  },
  {
   "cell_type": "code",
   "execution_count": 17,
   "metadata": {},
   "outputs": [
    {
     "data": {
      "text/html": [
       "<div>\n",
       "<style scoped>\n",
       "    .dataframe tbody tr th:only-of-type {\n",
       "        vertical-align: middle;\n",
       "    }\n",
       "\n",
       "    .dataframe tbody tr th {\n",
       "        vertical-align: top;\n",
       "    }\n",
       "\n",
       "    .dataframe thead th {\n",
       "        text-align: right;\n",
       "    }\n",
       "</style>\n",
       "<table border=\"1\" class=\"dataframe\">\n",
       "  <thead>\n",
       "    <tr style=\"text-align: right;\">\n",
       "      <th></th>\n",
       "      <th>residential_area</th>\n",
       "      <th>Résident</th>\n",
       "      <th>Rotatif</th>\n",
       "      <th>res_prop</th>\n",
       "    </tr>\n",
       "  </thead>\n",
       "  <tbody>\n",
       "    <tr>\n",
       "      <th>0</th>\n",
       "      <td>10E</td>\n",
       "      <td>42584</td>\n",
       "      <td>130687</td>\n",
       "      <td>0.245765</td>\n",
       "    </tr>\n",
       "    <tr>\n",
       "      <th>1</th>\n",
       "      <td>10F</td>\n",
       "      <td>32191</td>\n",
       "      <td>100235</td>\n",
       "      <td>0.243087</td>\n",
       "    </tr>\n",
       "    <tr>\n",
       "      <th>2</th>\n",
       "      <td>10G</td>\n",
       "      <td>42415</td>\n",
       "      <td>103824</td>\n",
       "      <td>0.290039</td>\n",
       "    </tr>\n",
       "    <tr>\n",
       "      <th>3</th>\n",
       "      <td>11E</td>\n",
       "      <td>32599</td>\n",
       "      <td>80508</td>\n",
       "      <td>0.288214</td>\n",
       "    </tr>\n",
       "    <tr>\n",
       "      <th>4</th>\n",
       "      <td>11F</td>\n",
       "      <td>43286</td>\n",
       "      <td>86233</td>\n",
       "      <td>0.334206</td>\n",
       "    </tr>\n",
       "  </tbody>\n",
       "</table>\n",
       "</div>"
      ],
      "text/plain": [
       "  residential_area  Résident  Rotatif  res_prop\n",
       "0              10E     42584   130687  0.245765\n",
       "1              10F     32191   100235  0.243087\n",
       "2              10G     42415   103824  0.290039\n",
       "3              11E     32599    80508  0.288214\n",
       "4              11F     43286    86233  0.334206"
      ]
     },
     "execution_count": 17,
     "metadata": {},
     "output_type": "execute_result"
    }
   ],
   "source": [
    "user_zone = user_prop.groupby(['residential_area'])['Résident', 'Rotatif'].sum().reset_index()\n",
    "user_zone['res_prop'] = user_zone['Résident'] / (user_zone['Résident'] + user_zone['Rotatif'])\n",
    "user_zone.head()"
   ]
  },
  {
   "cell_type": "code",
   "execution_count": 18,
   "metadata": {
    "scrolled": true
   },
   "outputs": [
    {
     "name": "stderr",
     "output_type": "stream",
     "text": [
      "/Users/louislimnavong/anaconda3/lib/python3.6/site-packages/matplotlib/axes/_axes.py:6499: MatplotlibDeprecationWarning: \n",
      "The 'normed' kwarg was deprecated in Matplotlib 2.1 and will be removed in 3.1. Use 'density' instead.\n",
      "  alternative=\"'density'\", removal=\"3.1\")\n"
     ]
    },
    {
     "data": {
      "image/png": "[encoded data removed]",
      "text/plain": [
       "<Figure size 432x288 with 1 Axes>"
      ]
     },
     "metadata": {},
     "output_type": "display_data"
    }
   ],
   "source": [
    "x = user_zone['res_prop']\n",
    "sns.distplot(x)\n",
    "plt.show()"
   ]
  },
  {
   "cell_type": "markdown",
   "metadata": {},
   "source": [
    "### Payment type "
   ]
  },
  {
   "cell_type": "code",
   "execution_count": 19,
   "metadata": {
    "collapsed": true
   },
   "outputs": [],
   "source": [
    "payment = df_test.groupby(['parkmeter_id', 'residential_area','payment_method'])['user_type'].count().reset_index()"
   ]
  },
  {
   "cell_type": "code",
   "execution_count": 20,
   "metadata": {
    "collapsed": true
   },
   "outputs": [],
   "source": [
    "cb = payment[payment['payment_method'] == 'CB']\n",
    "cb = cb.rename(index=str, columns={\"user_type\": \"CB\"})\n",
    "del cb['payment_method']\n",
    "\n",
    "pc = payment[payment['payment_method'] == 'Paris Carte']\n",
    "pc = pc.rename(index=str, columns={\"user_type\": \"Paris Carte\"})\n",
    "del pc['payment_method']"
   ]
  },
  {
   "cell_type": "code",
   "execution_count": 21,
   "metadata": {
    "scrolled": true
   },
   "outputs": [
    {
     "data": {
      "text/html": [
       "<div>\n",
       "<style scoped>\n",
       "    .dataframe tbody tr th:only-of-type {\n",
       "        vertical-align: middle;\n",
       "    }\n",
       "\n",
       "    .dataframe tbody tr th {\n",
       "        vertical-align: top;\n",
       "    }\n",
       "\n",
       "    .dataframe thead th {\n",
       "        text-align: right;\n",
       "    }\n",
       "</style>\n",
       "<table border=\"1\" class=\"dataframe\">\n",
       "  <thead>\n",
       "    <tr style=\"text-align: right;\">\n",
       "      <th></th>\n",
       "      <th>residential_area</th>\n",
       "      <th>Paris Carte</th>\n",
       "      <th>CB</th>\n",
       "      <th>pay_prop</th>\n",
       "    </tr>\n",
       "  </thead>\n",
       "  <tbody>\n",
       "    <tr>\n",
       "      <th>0</th>\n",
       "      <td>10E</td>\n",
       "      <td>102329</td>\n",
       "      <td>77880</td>\n",
       "      <td>0.567835</td>\n",
       "    </tr>\n",
       "    <tr>\n",
       "      <th>1</th>\n",
       "      <td>10F</td>\n",
       "      <td>88829</td>\n",
       "      <td>80227</td>\n",
       "      <td>0.525441</td>\n",
       "    </tr>\n",
       "    <tr>\n",
       "      <th>2</th>\n",
       "      <td>10G</td>\n",
       "      <td>109162</td>\n",
       "      <td>94886</td>\n",
       "      <td>0.534982</td>\n",
       "    </tr>\n",
       "    <tr>\n",
       "      <th>3</th>\n",
       "      <td>11E</td>\n",
       "      <td>75069</td>\n",
       "      <td>62712</td>\n",
       "      <td>0.544843</td>\n",
       "    </tr>\n",
       "    <tr>\n",
       "      <th>4</th>\n",
       "      <td>11F</td>\n",
       "      <td>82809</td>\n",
       "      <td>60963</td>\n",
       "      <td>0.575974</td>\n",
       "    </tr>\n",
       "  </tbody>\n",
       "</table>\n",
       "</div>"
      ],
      "text/plain": [
       "  residential_area  Paris Carte     CB  pay_prop\n",
       "0              10E       102329  77880  0.567835\n",
       "1              10F        88829  80227  0.525441\n",
       "2              10G       109162  94886  0.534982\n",
       "3              11E        75069  62712  0.544843\n",
       "4              11F        82809  60963  0.575974"
      ]
     },
     "execution_count": 21,
     "metadata": {},
     "output_type": "execute_result"
    }
   ],
   "source": [
    "payment_prop = cb.merge(pc, on = ['parkmeter_id', 'residential_area'])\n",
    "payment_zone = payment_prop.groupby(['residential_area'])['Paris Carte', 'CB'].sum().reset_index()\n",
    "payment_zone['pay_prop'] = payment_zone['Paris Carte'] / (payment_zone['Paris Carte'] + payment_zone['CB'])\n",
    "payment_zone.head()"
   ]
  },
  {
   "cell_type": "code",
   "execution_count": 22,
   "metadata": {},
   "outputs": [
    {
     "name": "stderr",
     "output_type": "stream",
     "text": [
      "/Users/louislimnavong/anaconda3/lib/python3.6/site-packages/matplotlib/axes/_axes.py:6499: MatplotlibDeprecationWarning: \n",
      "The 'normed' kwarg was deprecated in Matplotlib 2.1 and will be removed in 3.1. Use 'density' instead.\n",
      "  alternative=\"'density'\", removal=\"3.1\")\n"
     ]
    },
    {
     "data": {
      "image/png": "[encoded data removed]",
      "text/plain": [
       "<Figure size 432x288 with 1 Axes>"
      ]
     },
     "metadata": {},
     "output_type": "display_data"
    }
   ],
   "source": [
    "x = payment_zone['pay_prop']\n",
    "sns.distplot(x)\n",
    "plt.show()"
   ]
  },
  {
   "cell_type": "markdown",
   "metadata": {},
   "source": [
    "# Merging features"
   ]
  },
  {
   "cell_type": "code",
   "execution_count": 23,
   "metadata": {
    "scrolled": true
   },
   "outputs": [
    {
     "name": "stdout",
     "output_type": "stream",
     "text": [
      "(160, 2)\n"
     ]
    },
    {
     "data": {
      "text/html": [
       "<div>\n",
       "<style scoped>\n",
       "    .dataframe tbody tr th:only-of-type {\n",
       "        vertical-align: middle;\n",
       "    }\n",
       "\n",
       "    .dataframe tbody tr th {\n",
       "        vertical-align: top;\n",
       "    }\n",
       "\n",
       "    .dataframe thead th {\n",
       "        text-align: right;\n",
       "    }\n",
       "</style>\n",
       "<table border=\"1\" class=\"dataframe\">\n",
       "  <thead>\n",
       "    <tr style=\"text-align: right;\">\n",
       "      <th></th>\n",
       "      <th>residential_area</th>\n",
       "      <th>parkmeter_id</th>\n",
       "    </tr>\n",
       "  </thead>\n",
       "  <tbody>\n",
       "    <tr>\n",
       "      <th>0</th>\n",
       "      <td>10E</td>\n",
       "      <td>61</td>\n",
       "    </tr>\n",
       "    <tr>\n",
       "      <th>1</th>\n",
       "      <td>10F</td>\n",
       "      <td>67</td>\n",
       "    </tr>\n",
       "  </tbody>\n",
       "</table>\n",
       "</div>"
      ],
      "text/plain": [
       "  residential_area  parkmeter_id\n",
       "0              10E            61\n",
       "1              10F            67"
      ]
     },
     "execution_count": 23,
     "metadata": {},
     "output_type": "execute_result"
    }
   ],
   "source": [
    "print(count_zone.shape)\n",
    "count_zone.head(2)"
   ]
  },
  {
   "cell_type": "code",
   "execution_count": 24,
   "metadata": {},
   "outputs": [
    {
     "name": "stdout",
     "output_type": "stream",
     "text": [
      "(160, 2)\n"
     ]
    },
    {
     "data": {
      "text/html": [
       "<div>\n",
       "<style scoped>\n",
       "    .dataframe tbody tr th:only-of-type {\n",
       "        vertical-align: middle;\n",
       "    }\n",
       "\n",
       "    .dataframe tbody tr th {\n",
       "        vertical-align: top;\n",
       "    }\n",
       "\n",
       "    .dataframe thead th {\n",
       "        text-align: right;\n",
       "    }\n",
       "</style>\n",
       "<table border=\"1\" class=\"dataframe\">\n",
       "  <thead>\n",
       "    <tr style=\"text-align: right;\">\n",
       "      <th></th>\n",
       "      <th>residential_area</th>\n",
       "      <th>duration_hours</th>\n",
       "    </tr>\n",
       "  </thead>\n",
       "  <tbody>\n",
       "    <tr>\n",
       "      <th>0</th>\n",
       "      <td>10E</td>\n",
       "      <td>9.471723</td>\n",
       "    </tr>\n",
       "    <tr>\n",
       "      <th>1</th>\n",
       "      <td>10F</td>\n",
       "      <td>8.135806</td>\n",
       "    </tr>\n",
       "  </tbody>\n",
       "</table>\n",
       "</div>"
      ],
      "text/plain": [
       "  residential_area  duration_hours\n",
       "0              10E        9.471723\n",
       "1              10F        8.135806"
      ]
     },
     "execution_count": 24,
     "metadata": {},
     "output_type": "execute_result"
    }
   ],
   "source": [
    "print(average_duration.shape)\n",
    "average_duration.head(2)"
   ]
  },
  {
   "cell_type": "code",
   "execution_count": 25,
   "metadata": {},
   "outputs": [
    {
     "name": "stdout",
     "output_type": "stream",
     "text": [
      "(160, 2)\n"
     ]
    },
    {
     "data": {
      "text/html": [
       "<div>\n",
       "<style scoped>\n",
       "    .dataframe tbody tr th:only-of-type {\n",
       "        vertical-align: middle;\n",
       "    }\n",
       "\n",
       "    .dataframe tbody tr th {\n",
       "        vertical-align: top;\n",
       "    }\n",
       "\n",
       "    .dataframe thead th {\n",
       "        text-align: right;\n",
       "    }\n",
       "</style>\n",
       "<table border=\"1\" class=\"dataframe\">\n",
       "  <thead>\n",
       "    <tr style=\"text-align: right;\">\n",
       "      <th></th>\n",
       "      <th>residential_area</th>\n",
       "      <th>pay_prop</th>\n",
       "    </tr>\n",
       "  </thead>\n",
       "  <tbody>\n",
       "    <tr>\n",
       "      <th>0</th>\n",
       "      <td>10E</td>\n",
       "      <td>0.567835</td>\n",
       "    </tr>\n",
       "    <tr>\n",
       "      <th>1</th>\n",
       "      <td>10F</td>\n",
       "      <td>0.525441</td>\n",
       "    </tr>\n",
       "  </tbody>\n",
       "</table>\n",
       "</div>"
      ],
      "text/plain": [
       "  residential_area  pay_prop\n",
       "0              10E  0.567835\n",
       "1              10F  0.525441"
      ]
     },
     "execution_count": 25,
     "metadata": {},
     "output_type": "execute_result"
    }
   ],
   "source": [
    "del payment_zone['CB']\n",
    "del payment_zone['Paris Carte']\n",
    "print(payment_zone.shape)\n",
    "payment_zone.head(2)"
   ]
  },
  {
   "cell_type": "code",
   "execution_count": 26,
   "metadata": {},
   "outputs": [
    {
     "name": "stdout",
     "output_type": "stream",
     "text": [
      "(160, 2)\n"
     ]
    },
    {
     "data": {
      "text/html": [
       "<div>\n",
       "<style scoped>\n",
       "    .dataframe tbody tr th:only-of-type {\n",
       "        vertical-align: middle;\n",
       "    }\n",
       "\n",
       "    .dataframe tbody tr th {\n",
       "        vertical-align: top;\n",
       "    }\n",
       "\n",
       "    .dataframe thead th {\n",
       "        text-align: right;\n",
       "    }\n",
       "</style>\n",
       "<table border=\"1\" class=\"dataframe\">\n",
       "  <thead>\n",
       "    <tr style=\"text-align: right;\">\n",
       "      <th></th>\n",
       "      <th>residential_area</th>\n",
       "      <th>res_prop</th>\n",
       "    </tr>\n",
       "  </thead>\n",
       "  <tbody>\n",
       "    <tr>\n",
       "      <th>0</th>\n",
       "      <td>10E</td>\n",
       "      <td>0.245765</td>\n",
       "    </tr>\n",
       "    <tr>\n",
       "      <th>1</th>\n",
       "      <td>10F</td>\n",
       "      <td>0.243087</td>\n",
       "    </tr>\n",
       "  </tbody>\n",
       "</table>\n",
       "</div>"
      ],
      "text/plain": [
       "  residential_area  res_prop\n",
       "0              10E  0.245765\n",
       "1              10F  0.243087"
      ]
     },
     "execution_count": 26,
     "metadata": {},
     "output_type": "execute_result"
    }
   ],
   "source": [
    "del user_zone['Résident']\n",
    "del user_zone['Rotatif']\n",
    "print(user_zone.shape)\n",
    "user_zone.head(2)"
   ]
  },
  {
   "cell_type": "code",
   "execution_count": 27,
   "metadata": {},
   "outputs": [
    {
     "data": {
      "text/html": [
       "<div>\n",
       "<style scoped>\n",
       "    .dataframe tbody tr th:only-of-type {\n",
       "        vertical-align: middle;\n",
       "    }\n",
       "\n",
       "    .dataframe tbody tr th {\n",
       "        vertical-align: top;\n",
       "    }\n",
       "\n",
       "    .dataframe thead th {\n",
       "        text-align: right;\n",
       "    }\n",
       "</style>\n",
       "<table border=\"1\" class=\"dataframe\">\n",
       "  <thead>\n",
       "    <tr style=\"text-align: right;\">\n",
       "      <th></th>\n",
       "      <th>residential_area</th>\n",
       "      <th>res_prop</th>\n",
       "      <th>pay_prop</th>\n",
       "      <th>duration_hours</th>\n",
       "      <th>parkmeter_id</th>\n",
       "    </tr>\n",
       "  </thead>\n",
       "  <tbody>\n",
       "    <tr>\n",
       "      <th>0</th>\n",
       "      <td>10E</td>\n",
       "      <td>0.245765</td>\n",
       "      <td>0.567835</td>\n",
       "      <td>9.471723</td>\n",
       "      <td>61</td>\n",
       "    </tr>\n",
       "    <tr>\n",
       "      <th>1</th>\n",
       "      <td>10F</td>\n",
       "      <td>0.243087</td>\n",
       "      <td>0.525441</td>\n",
       "      <td>8.135806</td>\n",
       "      <td>67</td>\n",
       "    </tr>\n",
       "    <tr>\n",
       "      <th>2</th>\n",
       "      <td>10G</td>\n",
       "      <td>0.290039</td>\n",
       "      <td>0.534982</td>\n",
       "      <td>7.406850</td>\n",
       "      <td>69</td>\n",
       "    </tr>\n",
       "    <tr>\n",
       "      <th>3</th>\n",
       "      <td>11E</td>\n",
       "      <td>0.288214</td>\n",
       "      <td>0.544843</td>\n",
       "      <td>9.175851</td>\n",
       "      <td>64</td>\n",
       "    </tr>\n",
       "    <tr>\n",
       "      <th>4</th>\n",
       "      <td>11F</td>\n",
       "      <td>0.334206</td>\n",
       "      <td>0.575974</td>\n",
       "      <td>10.968004</td>\n",
       "      <td>56</td>\n",
       "    </tr>\n",
       "  </tbody>\n",
       "</table>\n",
       "</div>"
      ],
      "text/plain": [
       "  residential_area  res_prop  pay_prop  duration_hours  parkmeter_id\n",
       "0              10E  0.245765  0.567835        9.471723            61\n",
       "1              10F  0.243087  0.525441        8.135806            67\n",
       "2              10G  0.290039  0.534982        7.406850            69\n",
       "3              11E  0.288214  0.544843        9.175851            64\n",
       "4              11F  0.334206  0.575974       10.968004            56"
      ]
     },
     "execution_count": 27,
     "metadata": {},
     "output_type": "execute_result"
    }
   ],
   "source": [
    "final_temp = user_zone.merge(payment_zone, on = ['residential_area'])\n",
    "final_temp = final_temp.merge(average_duration, on = ['residential_area'])\n",
    "final_temp = final_temp.merge(count_zone, on = ['residential_area'])\n",
    "final_temp.head()"
   ]
  },
  {
   "cell_type": "code",
   "execution_count": 28,
   "metadata": {
    "collapsed": true
   },
   "outputs": [],
   "source": [
    "final_temp.to_csv('csv/df_features.csv')\n",
    "final_temp.to_excel('tables/df_features.xlsx')"
   ]
  }
 ],
 "metadata": {
  "kernelspec": {
   "display_name": "Python 3",
   "language": "python",
   "name": "python3"
  },
  "language_info": {
   "codemirror_mode": {
    "name": "ipython",
    "version": 3
   },
   "file_extension": ".py",
   "mimetype": "text/x-python",
   "name": "python",
   "nbconvert_exporter": "python",
   "pygments_lexer": "ipython3",
   "version": "3.6.2"
  }
 },
 "nbformat": 4,
 "nbformat_minor": 2
}
